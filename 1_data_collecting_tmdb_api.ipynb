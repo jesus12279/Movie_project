{
 "cells": [
  {
   "cell_type": "markdown",
   "metadata": {},
   "source": [
    "# Data Collecting using  API of  www.themoviedb.org\n",
    "\n",
    "## 1. Import Libraries\n"
   ]
  },
  {
   "cell_type": "code",
   "execution_count": 7,
   "metadata": {},
   "outputs": [],
   "source": [
    "import requests\n",
    "import pandas as pd\n",
    "import matplotlib.pyplot as plt\n",
    "import json\n",
    "import numpy as np\n",
    "np.random.seed(102)"
   ]
  },
  {
   "cell_type": "markdown",
   "metadata": {},
   "source": [
    "## 2. Defining Functions"
   ]
  },
  {
   "cell_type": "markdown",
   "metadata": {},
   "source": [
    "### 2a. Function to get API key\n",
    "Check the link below to get started with API and how to get API key:\n",
    "[Getting Started](https://developers.themoviedb.org/3/getting-started/introduction)"
   ]
  },
  {
   "cell_type": "code",
   "execution_count": 8,
   "metadata": {},
   "outputs": [],
   "source": [
    "# Function to get API keys\n",
    "def get_keys(path):\n",
    "    '''\n",
    "    Function:\n",
    "    Returns API keys.\n",
    "    \n",
    "    Parameters:\n",
    "    path: path to the json file with the API keys. \n",
    "\n",
    "    '''\n",
    "    with open(path) as f:\n",
    "        return json.load(f)\n",
    "\n",
    "# Using the function to open and load all keys in that file \n",
    "api_keys = get_keys(\"/Users/ASM/Documents/secrets/tmdb_api.json\")\n",
    "\n",
    "# Setting the first (and only) value as a variable\n",
    "key = list(api_keys.values())[0]"
   ]
  },
  {
   "cell_type": "markdown",
   "metadata": {},
   "source": [
    "### 2b. Function to get lists with movie IDs and dates\n",
    "Function will return lists with movies IDs and release year\n",
    "For more information, check the link [TMDB DISCOVER API](https://developers.themoviedb.org/3/discover/movie-discover)"
   ]
  },
  {
   "cell_type": "code",
   "execution_count": 9,
   "metadata": {},
   "outputs": [],
   "source": [
    "# Function to get the list with movie IDs \n",
    "# and list with with movies release dates\n",
    "def discover_request(pages = 1, year=2013):\n",
    "    '''\n",
    "    Function:\n",
    "    Returns list of movies' ids and list of corresponding release years from the source link.\n",
    "    The source is TMDB.org Discover-API.\n",
    "    \n",
    "    Parameters:\n",
    "    \n",
    "    page: (type integer). Default = 1. \n",
    "    The number of pages to get the data NOTE: it is 20 movies per page.\n",
    "    \n",
    "    year: (type integer). Default = 2013.\n",
    "    Release year (looking at all release years) that is greater or equal to the specified value.\n",
    "    '''\n",
    "    pages_list = range(1,pages+1)\n",
    "    movies_list = []\n",
    "    movies_list_date = []\n",
    "    for page in pages_list:\n",
    "        discover_response = requests.get(f'https://api.themoviedb.org/3/discover/movie?api_key={key}&language=en-US&region=US&sort_by=popularity.desc&include_adult=false&include_video=false&page={page}&release_date.gte={year}&with_original_language=en')\n",
    "        discover_list = discover_response.json()['results']\n",
    "        discover_list_id = [i['id'] for i in discover_list]\n",
    "        discover_list_date = [i['release_date'] for i in discover_list]\n",
    "        movies_list += discover_list_id\n",
    "        movies_list_date += discover_list_date\n",
    "    \n",
    "    return movies_list, movies_list_date\n"
   ]
  },
  {
   "cell_type": "markdown",
   "metadata": {},
   "source": [
    "### 2c. Function to get lists of dictionaries with detailed data for each movie.\n",
    "Function will return: title, genres, populaity, average vote, budget, revenue, production company and country, release date, etc.\n",
    "For more information, check the link [TMDB MOVIES API](https://developers.themoviedb.org/3/movies/get-movie-details)\n"
   ]
  },
  {
   "cell_type": "code",
   "execution_count": 10,
   "metadata": {},
   "outputs": [],
   "source": [
    "# Function to get the list with detailed data, \n",
    "# Expected input is movies_list returned by discover_request() function.\n",
    "def movies_request(movies_list):\n",
    "    '''\n",
    "    Function:\n",
    "    Returns list of dictionaries with specific information for each movie (title, genres, populaity, average vote, budget, revenue, production company and country, release date, etc.)\n",
    "    The source is TMDB.org Movie-API.\n",
    "    \n",
    "    Parameters:\n",
    "    movies_list: (type-list). List with movies IDs. \n",
    "    \n",
    "    '''\n",
    "    movies_list_complete = []\n",
    "    for title in movies_list:\n",
    "        response = requests.get(f'https://api.themoviedb.org/3/movie/{title}?api_key={key}&language=en-US')\n",
    "        movies_list_complete.append(response.json())\n",
    "    return movies_list_complete"
   ]
  },
  {
   "cell_type": "markdown",
   "metadata": {},
   "source": [
    "### 3. Getting data by sending API requests.\n",
    "\n",
    "Run requests for 500 pages with filter of year 2000 and greater. \n",
    "[TMDB DISCOVER API](https://developers.themoviedb.org/3/discover/movie-discover)"
   ]
  },
  {
   "cell_type": "code",
   "execution_count": 13,
   "metadata": {},
   "outputs": [],
   "source": [
    "# Uncomment below only if need to run API again:\n",
    "\n",
    "# movies_list, movies_list_date= discover_request(pages=500,year=2000)"
   ]
  },
  {
   "cell_type": "markdown",
   "metadata": {},
   "source": [
    "The below code is to combine two lists together and sort by year of release.\n",
    "Then create list with movies IDs of year 2000 and greater(in case if it was not filtered correctly by the site)"
   ]
  },
  {
   "cell_type": "code",
   "execution_count": 547,
   "metadata": {},
   "outputs": [],
   "source": [
    "# Create data frame with IDs and release date\n",
    "df_id_date = pd.DataFrame(list(zip(movies_list, movies_list_date)), \n",
    "               columns =['ID', 'release_date'])\n",
    "\n",
    "# convert release date to 'datetime' type\n",
    "df_id_date['release_date'] = pd.to_datetime(df_id_date.release_date) \n",
    "\n",
    "# create a column with years only\n",
    "df_id_date['release_date_2'] = df_id_date.release_date.dt.year\n",
    "\n",
    "# sort the data frame by release date in descending order(from recent to the oldest)\n",
    "df_id_date = df_id_date.sort_values('release_date_2', ascending=False)\n",
    "\n",
    "# get the list of movies with IDS(year 2000 and greater)\n",
    "list_2000 = list(df_id_date.loc[(df_id_date['release_date_2'] >= 2000)][\"ID\"])"
   ]
  },
  {
   "cell_type": "markdown",
   "metadata": {},
   "source": [
    "Run requests get list of dictionaries with detailed data for each movie. \n",
    "[TMDB MOVIES API](https://developers.themoviedb.org/3/movies/get-movie-details)"
   ]
  },
  {
   "cell_type": "code",
   "execution_count": 12,
   "metadata": {},
   "outputs": [],
   "source": [
    "# Uncomment below only if need to run API again, as it will run few thousands of requests:\n",
    "\n",
    "# movies_list_complete= movies_request(list_2000)\n",
    "# movies_list_complete"
   ]
  },
  {
   "cell_type": "markdown",
   "metadata": {},
   "source": [
    "### 4. Create data frame and save as csv file\n",
    "\n",
    "NOTE: all data were collected using api of themoviedb.org. For terms of use of the below data, please consult [TMDB terms-of-use](https://www.themoviedb.org/documentation/api/terms-of-use)"
   ]
  },
  {
   "cell_type": "code",
   "execution_count": 629,
   "metadata": {},
   "outputs": [],
   "source": [
    "df= pd.DataFrame(movies_list_complete)"
   ]
  },
  {
   "cell_type": "code",
   "execution_count": 630,
   "metadata": {},
   "outputs": [],
   "source": [
    "df.to_csv('df_movies.csv')"
   ]
  }
 ],
 "metadata": {
  "kernelspec": {
   "display_name": "Python 3",
   "language": "python",
   "name": "python3"
  },
  "language_info": {
   "codemirror_mode": {
    "name": "ipython",
    "version": 3
   },
   "file_extension": ".py",
   "mimetype": "text/x-python",
   "name": "python",
   "nbconvert_exporter": "python",
   "pygments_lexer": "ipython3",
   "version": "3.6.9"
  }
 },
 "nbformat": 4,
 "nbformat_minor": 2
}
