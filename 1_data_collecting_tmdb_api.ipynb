{
 "cells": [
  {
   "cell_type": "code",
   "execution_count": 374,
   "metadata": {},
   "outputs": [],
   "source": [
    "import requests\n",
    "import pandas as pd\n",
    "import matplotlib.pyplot as plt\n",
    "import json\n",
    "import numpy as np\n",
    "np.random.seed(102)\n"
   ]
  },
  {
   "cell_type": "code",
   "execution_count": 373,
   "metadata": {},
   "outputs": [],
   "source": [
    "def get_keys(path):\n",
    "    with open(path) as f:\n",
    "        return json.load(f)\n",
    "\n",
    "# Using the function to open and load all keys in that file \n",
    "api_keys = get_keys(\"/Users/ASM/Documents/secrets/tmdb_api.json\")\n",
    "\n",
    "# Setting the first (and only) value as a variable\n",
    "key = list(api_keys.values())[0]"
   ]
  },
  {
   "cell_type": "code",
   "execution_count": 642,
   "metadata": {},
   "outputs": [],
   "source": [
    "# Getting the list of the movies by revenue(order = descending), \n",
    "# using \"Discover\" TMDB API\n",
    "# each pages has 20 movies\n",
    "# year = primary realease year + till today\n",
    "def discover_request(pages = 1, year=2013):\n",
    "    pages_list = range(1,pages+1)\n",
    "    movies_list = []\n",
    "    movies_list_date = []\n",
    "    for page in pages_list:\n",
    "        discover_response = requests.get(f'https://api.themoviedb.org/3/discover/movie?api_key={key}&language=en-US&region=US&sort_by=popularity.desc&include_adult=false&include_video=false&page={page}&release_date.gte={year}&with_original_language=en')\n",
    "        discover_list = discover_response.json()['results']\n",
    "        discover_list_id = [i['id'] for i in discover_list]\n",
    "        discover_list_date = [i['release_date'] for i in discover_list]\n",
    "        movies_list += discover_list_id\n",
    "        movies_list_date += discover_list_date\n",
    "    \n",
    "    return movies_list, movies_list_date\n",
    "\n",
    "\n",
    "# using titles from \"discover() function\"\n",
    "# getting detailed data for each movie\n",
    "\n",
    "def movies_request(movies_list):\n",
    "    movies_list_complete = []\n",
    "    for title in movies_list:\n",
    "        response = requests.get(f'https://api.themoviedb.org/3/movie/{title}?api_key={key}&language=en-US')\n",
    "        movies_list_complete.append(response.json())\n",
    "    return movies_list_complete\n",
    "\n"
   ]
  },
  {
   "cell_type": "code",
   "execution_count": 546,
   "metadata": {},
   "outputs": [],
   "source": [
    "# Uncomment below only if need to run API again:\n",
    "\n",
    "# movies_list, movies_list_date= discover_request(pages=500,year=2000)"
   ]
  },
  {
   "cell_type": "code",
   "execution_count": 547,
   "metadata": {},
   "outputs": [],
   "source": [
    "df_id_date = pd.DataFrame(list(zip(movies_list, movies_list_date)), \n",
    "               columns =['ID', 'release_date'])\n",
    "\n",
    "df_id_date['release_date'] = pd.to_datetime(df_id_date.release_date) \n",
    "df_id_date['release_date_2'] = df_id_date.release_date.dt.year\n",
    "df_id_date = df_id_date.sort_values('release_date_2', ascending=False)"
   ]
  },
  {
   "cell_type": "code",
   "execution_count": 693,
   "metadata": {},
   "outputs": [],
   "source": [
    "list_2000 = list(df_id_date.loc[(df_id_date['release_date_2'] >= 2000)][\"ID\"])"
   ]
  },
  {
   "cell_type": "code",
   "execution_count": 695,
   "metadata": {},
   "outputs": [],
   "source": [
    "# Uncomment below only if need to run API again:\n",
    "\n",
    "# movies_list_complete= movies_request(list_2000)\n",
    "# movies_list_complete"
   ]
  },
  {
   "cell_type": "code",
   "execution_count": 629,
   "metadata": {},
   "outputs": [],
   "source": [
    "df= pd.DataFrame(movies_list_complete)"
   ]
  },
  {
   "cell_type": "code",
   "execution_count": null,
   "metadata": {},
   "outputs": [],
   "source": []
  },
  {
   "cell_type": "code",
   "execution_count": 630,
   "metadata": {},
   "outputs": [],
   "source": [
    "df.to_csv('df_movies.csv')"
   ]
  }
 ],
 "metadata": {
  "kernelspec": {
   "display_name": "Python 3",
   "language": "python",
   "name": "python3"
  },
  "language_info": {
   "codemirror_mode": {
    "name": "ipython",
    "version": 3
   },
   "file_extension": ".py",
   "mimetype": "text/x-python",
   "name": "python",
   "nbconvert_exporter": "python",
   "pygments_lexer": "ipython3",
   "version": "3.6.9"
  }
 },
 "nbformat": 4,
 "nbformat_minor": 2
}
