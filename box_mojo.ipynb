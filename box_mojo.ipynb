{
 "cells": [
  {
   "cell_type": "markdown",
   "metadata": {},
   "source": [
    "## Import needed libraries"
   ]
  },
  {
   "cell_type": "code",
   "execution_count": 1,
   "metadata": {},
   "outputs": [],
   "source": [
    "import pandas as pd\n",
    "import numpy as np\n",
    "from bs4 import BeautifulSoup\n",
    "import requests\n",
    "import matplotlib.pyplot as plt"
   ]
  },
  {
   "cell_type": "markdown",
   "metadata": {},
   "source": [
    "## Easy to use Functions"
   ]
  },
  {
   "cell_type": "code",
   "execution_count": null,
   "metadata": {},
   "outputs": [],
   "source": [
    "# Get url links by specified parameters for easy web scraping\n",
    "def links(urls, x):\n",
    "    \"\"\"\n",
    "    Function to get website urls\n",
    "    Takes in a url from any website \n",
    "    and a filter by to search for what urls start with\n",
    "    \n",
    "    \"\"\"\n",
    "    new_list = []\n",
    "    content = requests.get(urls)\n",
    "\n",
    "    soup = BeautifulSoup(content.text, 'html.parser')\n",
    "    href = soup.find_all('a', href = True)\n",
    "    for link in href:\n",
    "        if link['href'].startswith(x):\n",
    "            new_list.append(link['href'])\n",
    "    \n",
    "    return new_list"
   ]
  },
  {
   "cell_type": "code",
   "execution_count": null,
   "metadata": {},
   "outputs": [],
   "source": [
    "#Replace Data from DataFeame\n",
    "def replace_data(x, y, z, t):\n",
    "    \"\"\"\n",
    "    Takes in a df, column name, replacing value, and what type you want back\n",
    "    \"\"\"\n",
    "    x[y] = x[y].fillna(z).astype(t)\n",
    "    return x"
   ]
  },
  {
   "cell_type": "code",
   "execution_count": null,
   "metadata": {},
   "outputs": [],
   "source": [
    "# Clean data That is not needed in any given data frame\n",
    "def data_cleaning(x, y, z):\n",
    "    \"\"\"\n",
    "    Takes in a df as x and y as the column name and filter out what you want out with z\n",
    "    Takes a string like data for example you want to get rid of $ in your data, it would look like '$'\n",
    "    It returns the data without that $ sign\n",
    "    Same for the column name it should be a string\n",
    "    Created by Jesus Christ\n",
    "    \"\"\"\n",
    "    x[y] = x[y].str.replace(z, \"\")\n",
    "    \n",
    "    return x"
   ]
  },
  {
   "cell_type": "markdown",
   "metadata": {},
   "source": [
    "## Grabbed urls for my site using my function"
   ]
  },
  {
   "cell_type": "code",
   "execution_count": null,
   "metadata": {},
   "outputs": [],
   "source": [
    "links_2019 = links('https://www.boxofficemojo.com/year/2019/?ref_=bo_yl_table_2', '/release')"
   ]
  },
  {
   "cell_type": "code",
   "execution_count": null,
   "metadata": {},
   "outputs": [],
   "source": [
    "links_2020 = links('https://www.boxofficemojo.com/year/2020/?ref_=bo_yl_table_1', '/release')"
   ]
  },
  {
   "cell_type": "markdown",
   "metadata": {},
   "source": [
    "## Grabbed movie data"
   ]
  },
  {
   "cell_type": "code",
   "execution_count": null,
   "metadata": {
    "scrolled": true
   },
   "outputs": [],
   "source": [
    "# Grabbed and made new nested dictionarys with the data grabbed\n",
    "list_of_movie2019_dicts = []\n",
    "\n",
    "for link_li in links_2019:\n",
    "    url = 'https://www.boxofficemojo.com' + link_li\n",
    "\n",
    "    content = requests.get(url)\n",
    "\n",
    "    soup = BeautifulSoup(content.text)\n",
    "\n",
    "    movie_dict = {}\n",
    "\n",
    "    movie_dict['Name'] = soup.find('h1').text\n",
    "\n",
    "    data = soup.find_all('span')\n",
    "    for i, span in enumerate(data):\n",
    "        if 'Distributor' in span:\n",
    "            movie_dict['Distributor'] = data[i+1].text.rstrip().split('See')[0]\n",
    "        if 'Opening' in span:\n",
    "            movie_dict['Opening'] = data[i+1].text.split(\"\\n\")[0]\n",
    "        if 'Budget' in span:\n",
    "            movie_dict['Budget'] = data[i+1].text\n",
    "        if 'Release Date' in span:\n",
    "            movie_dict['Release Date'] = data[i+1].text.split(\"\\n            -\\n            \")\n",
    "        if 'Running Time' in span:\n",
    "            movie_dict['Running Time'] = data[i+1].text\n",
    "        if 'Genres' in span:\n",
    "            movie_dict['Genres'] = data[i+1].text.split(\"\\n    \\n        \")\n",
    "        if 'Widest Release' in span:\n",
    "            movie_dict['Widest Release'] = data[i+1].text\n",
    "\n",
    "\n",
    "    list_of_movie2019_dicts.append(movie_dict)\n"
   ]
  },
  {
   "cell_type": "code",
   "execution_count": null,
   "metadata": {},
   "outputs": [],
   "source": [
    "# Grabbed and made new nested dictionarys with the data grabbed\n",
    "list_of_movie2020_dicts = []\n",
    "\n",
    "for link_li in links_2020:\n",
    "    url = 'https://www.boxofficemojo.com' + link_li\n",
    "\n",
    "    content = requests.get(url)\n",
    "\n",
    "    soup = BeautifulSoup(content.text)\n",
    "\n",
    "    movie_dict = {}\n",
    "\n",
    "    movie_dict['Name'] = soup.find('h1').text\n",
    "\n",
    "    data = soup.find_all('span')\n",
    "    for i, span in enumerate(data):\n",
    "        if 'Distributor' in span:\n",
    "            movie_dict['Distributor'] = data[i+1].text.rstrip().split('See')[0]\n",
    "        if 'Opening' in span:\n",
    "            movie_dict['Opening'] = data[i+1].text.split(\"\\n\")[0]\n",
    "        if 'Budget' in span:\n",
    "            movie_dict['Budget'] = data[i+1].text\n",
    "        if 'Release Date' in span:\n",
    "            movie_dict['Release Date'] = data[i+1].text.split(\"\\n            -\\n            \")\n",
    "        if 'Running Time' in span:\n",
    "            movie_dict['Running Time'] = data[i+1].text\n",
    "        if 'Genres' in span:\n",
    "            movie_dict['Genres'] = data[i+1].text.split(\"\\n    \\n        \")\n",
    "        if 'Widest Release' in span:\n",
    "            movie_dict['Widest Release'] = data[i+1].text\n",
    "\n",
    "\n",
    "    list_of_movie2020_dicts.append(movie_dict)"
   ]
  },
  {
   "cell_type": "markdown",
   "metadata": {},
   "source": [
    "## Made my Data into dataframe and made new csv files"
   ]
  },
  {
   "cell_type": "code",
   "execution_count": null,
   "metadata": {},
   "outputs": [],
   "source": [
    "# 2020 csv file"
   ]
  },
  {
   "cell_type": "code",
   "execution_count": null,
   "metadata": {},
   "outputs": [],
   "source": [
    "df_2020 = pd.DataFrame(list_of_movie2020_dicts)"
   ]
  },
  {
   "cell_type": "code",
   "execution_count": null,
   "metadata": {},
   "outputs": [],
   "source": [
    "df_2020.to_csv('2020_movies.csv')"
   ]
  },
  {
   "cell_type": "code",
   "execution_count": null,
   "metadata": {},
   "outputs": [],
   "source": [
    "df_2020 = pd.DataFrame(list_of_movie2020_dicts)"
   ]
  },
  {
   "cell_type": "code",
   "execution_count": null,
   "metadata": {},
   "outputs": [],
   "source": [
    "# 2019 csv file"
   ]
  },
  {
   "cell_type": "code",
   "execution_count": null,
   "metadata": {},
   "outputs": [],
   "source": [
    "new_li_2019 = list_of_movie2019_dicts"
   ]
  },
  {
   "cell_type": "code",
   "execution_count": null,
   "metadata": {},
   "outputs": [],
   "source": [
    "df_2019 = pd.DataFrame(new_li_2019)"
   ]
  },
  {
   "cell_type": "code",
   "execution_count": null,
   "metadata": {},
   "outputs": [],
   "source": [
    "df_2019.to_csv('2019_movies.csv')"
   ]
  },
  {
   "cell_type": "markdown",
   "metadata": {},
   "source": [
    "## Data Cleaning 2020"
   ]
  },
  {
   "cell_type": "code",
   "execution_count": null,
   "metadata": {},
   "outputs": [],
   "source": [
    "df_2020 = pd.read_csv('2020_movies.csv')"
   ]
  },
  {
   "cell_type": "code",
   "execution_count": null,
   "metadata": {},
   "outputs": [],
   "source": [
    "df_2020.drop(columns = 'Unnamed: 0', inplace = True)"
   ]
  },
  {
   "cell_type": "code",
   "execution_count": null,
   "metadata": {},
   "outputs": [],
   "source": [
    "data_cleaning(df_2020, 'Budget', '$')"
   ]
  },
  {
   "cell_type": "code",
   "execution_count": null,
   "metadata": {},
   "outputs": [],
   "source": [
    "replace_data(df_2020, 'Release Date', 'No relase date', str)"
   ]
  },
  {
   "cell_type": "code",
   "execution_count": null,
   "metadata": {},
   "outputs": [],
   "source": [
    "df_2020.to_csv('2020_movies.csv', index = False)"
   ]
  },
  {
   "cell_type": "code",
   "execution_count": null,
   "metadata": {},
   "outputs": [],
   "source": [
    "df_2020 = pd.read_csv('2020_movies.csv')"
   ]
  },
  {
   "cell_type": "code",
   "execution_count": null,
   "metadata": {},
   "outputs": [],
   "source": [
    "df_2020"
   ]
  },
  {
   "cell_type": "markdown",
   "metadata": {},
   "source": [
    "## Data Cleaning 2019"
   ]
  },
  {
   "cell_type": "code",
   "execution_count": null,
   "metadata": {},
   "outputs": [],
   "source": [
    "df_2019 = pd.read_csv('2019_movies.csv')"
   ]
  },
  {
   "cell_type": "code",
   "execution_count": null,
   "metadata": {},
   "outputs": [],
   "source": [
    "data_cleaning(df_2019, 'Release Date', \",\")"
   ]
  },
  {
   "cell_type": "code",
   "execution_count": null,
   "metadata": {},
   "outputs": [],
   "source": [
    "eplace_data(df_2019, 'Release Date', '0 theaters', str)"
   ]
  },
  {
   "cell_type": "code",
   "execution_count": null,
   "metadata": {},
   "outputs": [],
   "source": [
    "df_2019.drop(columns = 'Unnamed: 0', inplace = True)"
   ]
  },
  {
   "cell_type": "code",
   "execution_count": null,
   "metadata": {},
   "outputs": [],
   "source": [
    "df_2019.to_csv('2019_movies.csv', index = False)"
   ]
  },
  {
   "cell_type": "code",
   "execution_count": null,
   "metadata": {},
   "outputs": [],
   "source": [
    "df_2019 = pd.read_csv('2019_movies.csv')"
   ]
  },
  {
   "cell_type": "code",
   "execution_count": null,
   "metadata": {},
   "outputs": [],
   "source": [
    "df_2019"
   ]
  },
  {
   "cell_type": "markdown",
   "metadata": {},
   "source": [
    "## 2019 Plots Test"
   ]
  },
  {
   "cell_type": "code",
   "execution_count": null,
   "metadata": {},
   "outputs": [],
   "source": [
    "df_2019['Opening'].mean()"
   ]
  },
  {
   "cell_type": "code",
   "execution_count": null,
   "metadata": {},
   "outputs": [],
   "source": [
    "df_2019['Genres'] = df_2019['Genres'].str.split(' ').str[0]"
   ]
  },
  {
   "cell_type": "code",
   "execution_count": null,
   "metadata": {},
   "outputs": [],
   "source": [
    "fig = plt.figure(figsize = (10, 6))\n",
    "\n",
    "df_2019.plot(x = 'Genres', y = 'Opening', kind = 'bar')"
   ]
  },
  {
   "cell_type": "code",
   "execution_count": null,
   "metadata": {},
   "outputs": [],
   "source": [
    "df_2019 = pd.read_csv('2019_movies.csv')"
   ]
  }
 ],
 "metadata": {
  "kernelspec": {
   "display_name": "Python [conda env:learn-env] *",
   "language": "python",
   "name": "conda-env-learn-env-py"
  },
  "language_info": {
   "codemirror_mode": {
    "name": "ipython",
    "version": 3
   },
   "file_extension": ".py",
   "mimetype": "text/x-python",
   "name": "python",
   "nbconvert_exporter": "python",
   "pygments_lexer": "ipython3",
   "version": "3.6.9"
  }
 },
 "nbformat": 4,
 "nbformat_minor": 2
}
