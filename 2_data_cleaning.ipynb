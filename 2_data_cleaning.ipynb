{
 "cells": [
  {
   "cell_type": "markdown",
   "metadata": {},
   "source": [
    "# Data Cleaning and Analysis\n",
    "(data source: themoviedb.org)\n",
    "## 1. Import Libraries\n"
   ]
  },
  {
   "cell_type": "code",
   "execution_count": 198,
   "metadata": {},
   "outputs": [],
   "source": [
    "import pandas as pd\n",
    "import numpy as np\n",
    "import ast # package is used for string conversion\n",
    "import warnings\n",
    "warnings.simplefilter('ignore')\n",
    "\n",
    "import matplotlib.pyplot as plt\n",
    "%matplotlib inline\n",
    "import seaborn as sns"
   ]
  },
  {
   "cell_type": "markdown",
   "metadata": {},
   "source": [
    "## 2. Defining Functions"
   ]
  },
  {
   "cell_type": "code",
   "execution_count": 3,
   "metadata": {},
   "outputs": [],
   "source": [
    "## Converts string list(\"[1,2,3]\") to list([1,2,3])\n",
    "def string_list(string_):\n",
    "    '''\n",
    "    Function:\n",
    "    Returns list.\n",
    "    \n",
    "    Parameters:\n",
    "    string_: string of list, e.g. \"[1,2,3]\" \n",
    "\n",
    "    '''\n",
    "    list_= ast.literal_eval(string_)\n",
    "    return list_\n"
   ]
  },
  {
   "cell_type": "code",
   "execution_count": 4,
   "metadata": {},
   "outputs": [],
   "source": [
    "## Extracts from list of dictionaries, only interested values.\n",
    "## see function docstring for details.\n",
    "def values_list(list_dict, target_elem=-1):\n",
    "    '''\n",
    "    Function:\n",
    "    Returns the list of values(values of target_elem) from list of dictionaries(list_dict).\n",
    "    \n",
    "    Parameters:\n",
    "    list_dict: (type-list). List of dictionaries or empty dictionary.\n",
    "    \n",
    "    target_elem: (type integer). Number of the element (in this case, element is the dictionary)\n",
    "    in the list.\n",
    "\n",
    "    '''\n",
    "    if list_dict == []:\n",
    "        return list_dict\n",
    "    else:\n",
    "        list_ = list(map(lambda x: list(x.values())[target_elem], list_dict))\n",
    "        return list_"
   ]
  },
  {
   "cell_type": "code",
   "execution_count": 222,
   "metadata": {},
   "outputs": [],
   "source": [
    "## This function will be used to flatten the list of lists.\n",
    "## It will return list of elements.\n",
    "\n",
    "def flat_list(list_):\n",
    "    \n",
    "    '''\n",
    "    Function:\n",
    "    Returns flat list from the list of lists.\n",
    "    \n",
    "    Parameters:\n",
    "    list_: list of lists \n",
    "    '''\n",
    "    return [item for sublist in list_ for item in sublist]"
   ]
  },
  {
   "cell_type": "code",
   "execution_count": 268,
   "metadata": {},
   "outputs": [],
   "source": [
    "## Returns transformed list of lists(each element here is cloned\n",
    "## number of times per correcponding number_list_)\n",
    "\n",
    "def transform_list(list_, number_list_):\n",
    "    '''\n",
    "    Function:\n",
    "    Returns transformed list of lists(each element here is cloned\n",
    "    number of times per correcponding number_list_)\n",
    "    \n",
    "    Parameters:\n",
    "    list_: list of numbers\n",
    "    number_list_: list of numbers\n",
    "    '''\n",
    "    transformed_list = []\n",
    "    for i, j in enumerate(number_list_):\n",
    "        transformed_elem = list_[i]\n",
    "        transformed = [transformed_elem] * j\n",
    "        transformed_list.append(transformed)\n",
    "    return transformed_list"
   ]
  },
  {
   "cell_type": "markdown",
   "metadata": {},
   "source": [
    "## 3. Exploring and Cleaning the data"
   ]
  },
  {
   "cell_type": "code",
   "execution_count": 71,
   "metadata": {},
   "outputs": [],
   "source": [
    "# Read csv file to data frame\n",
    "df = pd.read_csv(\"./raw_csv_files/df_movies.csv\")"
   ]
  },
  {
   "cell_type": "code",
   "execution_count": 72,
   "metadata": {},
   "outputs": [
    {
     "data": {
      "text/html": [
       "<div>\n",
       "<style scoped>\n",
       "    .dataframe tbody tr th:only-of-type {\n",
       "        vertical-align: middle;\n",
       "    }\n",
       "\n",
       "    .dataframe tbody tr th {\n",
       "        vertical-align: top;\n",
       "    }\n",
       "\n",
       "    .dataframe thead th {\n",
       "        text-align: right;\n",
       "    }\n",
       "</style>\n",
       "<table border=\"1\" class=\"dataframe\">\n",
       "  <thead>\n",
       "    <tr style=\"text-align: right;\">\n",
       "      <th></th>\n",
       "      <th>Unnamed: 0</th>\n",
       "      <th>Unnamed: 0.1</th>\n",
       "      <th>adult</th>\n",
       "      <th>backdrop_path</th>\n",
       "      <th>belongs_to_collection</th>\n",
       "      <th>budget</th>\n",
       "      <th>genres</th>\n",
       "      <th>homepage</th>\n",
       "      <th>id</th>\n",
       "      <th>imdb_id</th>\n",
       "      <th>...</th>\n",
       "      <th>release_date</th>\n",
       "      <th>revenue</th>\n",
       "      <th>runtime</th>\n",
       "      <th>spoken_languages</th>\n",
       "      <th>status</th>\n",
       "      <th>tagline</th>\n",
       "      <th>title</th>\n",
       "      <th>video</th>\n",
       "      <th>vote_average</th>\n",
       "      <th>vote_count</th>\n",
       "    </tr>\n",
       "  </thead>\n",
       "  <tbody>\n",
       "    <tr>\n",
       "      <td>0</td>\n",
       "      <td>0</td>\n",
       "      <td>3314</td>\n",
       "      <td>False</td>\n",
       "      <td>NaN</td>\n",
       "      <td>NaN</td>\n",
       "      <td>0.0</td>\n",
       "      <td>[{'id': 28, 'name': 'Action'}]</td>\n",
       "      <td>NaN</td>\n",
       "      <td>508950.0</td>\n",
       "      <td>NaN</td>\n",
       "      <td>...</td>\n",
       "      <td>2022-07-29</td>\n",
       "      <td>0.0</td>\n",
       "      <td>NaN</td>\n",
       "      <td>[{'iso_639_1': 'en', 'name': 'English'}]</td>\n",
       "      <td>Planned</td>\n",
       "      <td>NaN</td>\n",
       "      <td>Untitled Marvel Project (3)</td>\n",
       "      <td>False</td>\n",
       "      <td>0.0</td>\n",
       "      <td>0.0</td>\n",
       "    </tr>\n",
       "    <tr>\n",
       "      <td>1</td>\n",
       "      <td>1</td>\n",
       "      <td>929</td>\n",
       "      <td>False</td>\n",
       "      <td>/41RgPQeAvDaJ1Msiok96chq2gnd.jpg</td>\n",
       "      <td>NaN</td>\n",
       "      <td>125000000.0</td>\n",
       "      <td>[{'id': 878, 'name': 'Science Fiction'}]</td>\n",
       "      <td>NaN</td>\n",
       "      <td>412656.0</td>\n",
       "      <td>tt2076822</td>\n",
       "      <td>...</td>\n",
       "      <td>2021-01-21</td>\n",
       "      <td>0.0</td>\n",
       "      <td>0.0</td>\n",
       "      <td>[{'iso_639_1': 'en', 'name': 'English'}]</td>\n",
       "      <td>Post Production</td>\n",
       "      <td>NaN</td>\n",
       "      <td>Chaos Walking</td>\n",
       "      <td>False</td>\n",
       "      <td>0.0</td>\n",
       "      <td>0.0</td>\n",
       "    </tr>\n",
       "    <tr>\n",
       "      <td>2</td>\n",
       "      <td>2</td>\n",
       "      <td>2006</td>\n",
       "      <td>False</td>\n",
       "      <td>NaN</td>\n",
       "      <td>NaN</td>\n",
       "      <td>0.0</td>\n",
       "      <td>[]</td>\n",
       "      <td>NaN</td>\n",
       "      <td>607259.0</td>\n",
       "      <td>tt4733624</td>\n",
       "      <td>...</td>\n",
       "      <td>2021-01-06</td>\n",
       "      <td>0.0</td>\n",
       "      <td>0.0</td>\n",
       "      <td>[{'iso_639_1': 'en', 'name': 'English'}]</td>\n",
       "      <td>Post Production</td>\n",
       "      <td>NaN</td>\n",
       "      <td>Fatherhood</td>\n",
       "      <td>False</td>\n",
       "      <td>0.0</td>\n",
       "      <td>0.0</td>\n",
       "    </tr>\n",
       "    <tr>\n",
       "      <td>6740</td>\n",
       "      <td>4484</td>\n",
       "      <td>4484</td>\n",
       "      <td>False</td>\n",
       "      <td>/o3505VxhHKHbfTmuNif1ukjXDxI.jpg</td>\n",
       "      <td>NaN</td>\n",
       "      <td>0.0</td>\n",
       "      <td>[{'id': 878, 'name': 'Science Fiction'}, {'id'...</td>\n",
       "      <td>http://www.whatisthecircle.com</td>\n",
       "      <td>335866.0</td>\n",
       "      <td>tt3118452</td>\n",
       "      <td>...</td>\n",
       "      <td>2015-05-28</td>\n",
       "      <td>0.0</td>\n",
       "      <td>87.0</td>\n",
       "      <td>[{'iso_639_1': 'en', 'name': 'English'}]</td>\n",
       "      <td>Released</td>\n",
       "      <td>In here… everything gets you killed.</td>\n",
       "      <td>Circle</td>\n",
       "      <td>False</td>\n",
       "      <td>6.0</td>\n",
       "      <td>970.0</td>\n",
       "    </tr>\n",
       "    <tr>\n",
       "      <td>6741</td>\n",
       "      <td>4485</td>\n",
       "      <td>4485</td>\n",
       "      <td>False</td>\n",
       "      <td>/7CuXAFUWcOlR5kt07ln1fZDxdHX.jpg</td>\n",
       "      <td>NaN</td>\n",
       "      <td>70000000.0</td>\n",
       "      <td>[{'id': 16, 'name': 'Animation'}, {'id': 10751...</td>\n",
       "      <td>NaN</td>\n",
       "      <td>73723.0</td>\n",
       "      <td>tt1482459</td>\n",
       "      <td>...</td>\n",
       "      <td>2012-03-01</td>\n",
       "      <td>348840316.0</td>\n",
       "      <td>86.0</td>\n",
       "      <td>[{'iso_639_1': 'en', 'name': 'English'}]</td>\n",
       "      <td>Released</td>\n",
       "      <td>Meet The Original Force Of Nature</td>\n",
       "      <td>The Lorax</td>\n",
       "      <td>False</td>\n",
       "      <td>6.4</td>\n",
       "      <td>2063.0</td>\n",
       "    </tr>\n",
       "    <tr>\n",
       "      <td>6742</td>\n",
       "      <td>4486</td>\n",
       "      <td>4486</td>\n",
       "      <td>False</td>\n",
       "      <td>/8nyR0ffpbTDg9qN6FSscky0s2z.jpg</td>\n",
       "      <td>NaN</td>\n",
       "      <td>0.0</td>\n",
       "      <td>[{'id': 35, 'name': 'Comedy'}, {'id': 18, 'nam...</td>\n",
       "      <td>NaN</td>\n",
       "      <td>425980.0</td>\n",
       "      <td>tt5884230</td>\n",
       "      <td>...</td>\n",
       "      <td>2017-09-14</td>\n",
       "      <td>2400000.0</td>\n",
       "      <td>101.0</td>\n",
       "      <td>[{'iso_639_1': 'en', 'name': 'English'}]</td>\n",
       "      <td>Released</td>\n",
       "      <td>NaN</td>\n",
       "      <td>Brad's Status</td>\n",
       "      <td>False</td>\n",
       "      <td>6.1</td>\n",
       "      <td>194.0</td>\n",
       "    </tr>\n",
       "  </tbody>\n",
       "</table>\n",
       "<p>6 rows × 27 columns</p>\n",
       "</div>"
      ],
      "text/plain": [
       "      Unnamed: 0  Unnamed: 0.1  adult                     backdrop_path  \\\n",
       "0              0          3314  False                               NaN   \n",
       "1              1           929  False  /41RgPQeAvDaJ1Msiok96chq2gnd.jpg   \n",
       "2              2          2006  False                               NaN   \n",
       "6740        4484          4484  False  /o3505VxhHKHbfTmuNif1ukjXDxI.jpg   \n",
       "6741        4485          4485  False  /7CuXAFUWcOlR5kt07ln1fZDxdHX.jpg   \n",
       "6742        4486          4486  False   /8nyR0ffpbTDg9qN6FSscky0s2z.jpg   \n",
       "\n",
       "     belongs_to_collection       budget  \\\n",
       "0                      NaN          0.0   \n",
       "1                      NaN  125000000.0   \n",
       "2                      NaN          0.0   \n",
       "6740                   NaN          0.0   \n",
       "6741                   NaN   70000000.0   \n",
       "6742                   NaN          0.0   \n",
       "\n",
       "                                                 genres  \\\n",
       "0                        [{'id': 28, 'name': 'Action'}]   \n",
       "1              [{'id': 878, 'name': 'Science Fiction'}]   \n",
       "2                                                    []   \n",
       "6740  [{'id': 878, 'name': 'Science Fiction'}, {'id'...   \n",
       "6741  [{'id': 16, 'name': 'Animation'}, {'id': 10751...   \n",
       "6742  [{'id': 35, 'name': 'Comedy'}, {'id': 18, 'nam...   \n",
       "\n",
       "                            homepage        id    imdb_id  ... release_date  \\\n",
       "0                                NaN  508950.0        NaN  ...   2022-07-29   \n",
       "1                                NaN  412656.0  tt2076822  ...   2021-01-21   \n",
       "2                                NaN  607259.0  tt4733624  ...   2021-01-06   \n",
       "6740  http://www.whatisthecircle.com  335866.0  tt3118452  ...   2015-05-28   \n",
       "6741                             NaN   73723.0  tt1482459  ...   2012-03-01   \n",
       "6742                             NaN  425980.0  tt5884230  ...   2017-09-14   \n",
       "\n",
       "          revenue runtime                          spoken_languages  \\\n",
       "0             0.0     NaN  [{'iso_639_1': 'en', 'name': 'English'}]   \n",
       "1             0.0     0.0  [{'iso_639_1': 'en', 'name': 'English'}]   \n",
       "2             0.0     0.0  [{'iso_639_1': 'en', 'name': 'English'}]   \n",
       "6740          0.0    87.0  [{'iso_639_1': 'en', 'name': 'English'}]   \n",
       "6741  348840316.0    86.0  [{'iso_639_1': 'en', 'name': 'English'}]   \n",
       "6742    2400000.0   101.0  [{'iso_639_1': 'en', 'name': 'English'}]   \n",
       "\n",
       "               status                               tagline  \\\n",
       "0             Planned                                   NaN   \n",
       "1     Post Production                                   NaN   \n",
       "2     Post Production                                   NaN   \n",
       "6740         Released  In here… everything gets you killed.   \n",
       "6741         Released     Meet The Original Force Of Nature   \n",
       "6742         Released                                   NaN   \n",
       "\n",
       "                            title  video  vote_average  vote_count  \n",
       "0     Untitled Marvel Project (3)  False           0.0         0.0  \n",
       "1                   Chaos Walking  False           0.0         0.0  \n",
       "2                      Fatherhood  False           0.0         0.0  \n",
       "6740                       Circle  False           6.0       970.0  \n",
       "6741                    The Lorax  False           6.4      2063.0  \n",
       "6742                Brad's Status  False           6.1       194.0  \n",
       "\n",
       "[6 rows x 27 columns]"
      ]
     },
     "execution_count": 72,
     "metadata": {},
     "output_type": "execute_result"
    }
   ],
   "source": [
    "# See few head and tail rows\n",
    "df.head(3).append(df.tail(3))"
   ]
  },
  {
   "cell_type": "code",
   "execution_count": 73,
   "metadata": {},
   "outputs": [
    {
     "name": "stdout",
     "output_type": "stream",
     "text": [
      "<class 'pandas.core.frame.DataFrame'>\n",
      "RangeIndex: 6743 entries, 0 to 6742\n",
      "Data columns (total 27 columns):\n",
      "Unnamed: 0               6743 non-null int64\n",
      "Unnamed: 0.1             6743 non-null int64\n",
      "adult                    6742 non-null object\n",
      "backdrop_path            6607 non-null object\n",
      "belongs_to_collection    1281 non-null object\n",
      "budget                   6742 non-null float64\n",
      "genres                   6742 non-null object\n",
      "homepage                 3118 non-null object\n",
      "id                       6742 non-null float64\n",
      "imdb_id                  6716 non-null object\n",
      "original_language        6742 non-null object\n",
      "original_title           6742 non-null object\n",
      "overview                 6740 non-null object\n",
      "popularity               6742 non-null float64\n",
      "poster_path              6684 non-null object\n",
      "production_companies     6742 non-null object\n",
      "production_countries     6742 non-null object\n",
      "release_date             6742 non-null object\n",
      "revenue                  6742 non-null float64\n",
      "runtime                  6710 non-null float64\n",
      "spoken_languages         6742 non-null object\n",
      "status                   6742 non-null object\n",
      "tagline                  5121 non-null object\n",
      "title                    6742 non-null object\n",
      "video                    6742 non-null object\n",
      "vote_average             6742 non-null float64\n",
      "vote_count               6742 non-null float64\n",
      "dtypes: float64(7), int64(2), object(18)\n",
      "memory usage: 1.4+ MB\n"
     ]
    }
   ],
   "source": [
    "# get overview of the data frame\n",
    "df.info()"
   ]
  },
  {
   "cell_type": "code",
   "execution_count": 74,
   "metadata": {},
   "outputs": [
    {
     "data": {
      "text/plain": [
       "Index(['Unnamed: 0', 'Unnamed: 0.1', 'adult', 'backdrop_path',\n",
       "       'belongs_to_collection', 'budget', 'genres', 'homepage', 'id',\n",
       "       'imdb_id', 'original_language', 'original_title', 'overview',\n",
       "       'popularity', 'poster_path', 'production_companies',\n",
       "       'production_countries', 'release_date', 'revenue', 'runtime',\n",
       "       'spoken_languages', 'status', 'tagline', 'title', 'video',\n",
       "       'vote_average', 'vote_count'],\n",
       "      dtype='object')"
      ]
     },
     "execution_count": 74,
     "metadata": {},
     "output_type": "execute_result"
    }
   ],
   "source": [
    "# Get the columns name\n",
    "df.columns"
   ]
  },
  {
   "cell_type": "markdown",
   "metadata": {},
   "source": [
    "### 3a. Dropping the columns that will not be used in the analysis."
   ]
  },
  {
   "cell_type": "code",
   "execution_count": 75,
   "metadata": {},
   "outputs": [
    {
     "data": {
      "text/plain": [
       "\"On a post-apocalyptic Earth, a robot, built to protect the life of his dying creator's beloved dog, learns about life, love, friendship, and what it means to be human.\""
      ]
     },
     "execution_count": 75,
     "metadata": {},
     "output_type": "execute_result"
    }
   ],
   "source": [
    "# Checking what is in 'overview' column.\n",
    "# 'overview' column will be dropped, as this information will not \n",
    "# be used in the current analysis. \n",
    "df['overview'][11]"
   ]
  },
  {
   "cell_type": "code",
   "execution_count": 76,
   "metadata": {},
   "outputs": [
    {
     "data": {
      "text/plain": [
       "11                                 NaN\n",
       "12    /pYo2mEkSptAmW4OY5xduaHlLrh1.jpg\n",
       "13    /gvYz6xkBvDYmEmcs0LdWN3euxsz.jpg\n",
       "14                                 NaN\n",
       "Name: poster_path, dtype: object"
      ]
     },
     "execution_count": 76,
     "metadata": {},
     "output_type": "execute_result"
    }
   ],
   "source": [
    "# Checking what is in 'Poster_path' column.\n",
    "# It will be dropped, not usefull for the current analysis.\n",
    "df['poster_path'][11:15]"
   ]
  },
  {
   "cell_type": "code",
   "execution_count": 77,
   "metadata": {},
   "outputs": [
    {
     "data": {
      "text/html": [
       "<div>\n",
       "<style scoped>\n",
       "    .dataframe tbody tr th:only-of-type {\n",
       "        vertical-align: middle;\n",
       "    }\n",
       "\n",
       "    .dataframe tbody tr th {\n",
       "        vertical-align: top;\n",
       "    }\n",
       "\n",
       "    .dataframe thead th {\n",
       "        text-align: right;\n",
       "    }\n",
       "</style>\n",
       "<table border=\"1\" class=\"dataframe\">\n",
       "  <thead>\n",
       "    <tr style=\"text-align: right;\">\n",
       "      <th></th>\n",
       "      <th>tagline</th>\n",
       "      <th>video</th>\n",
       "    </tr>\n",
       "  </thead>\n",
       "  <tbody>\n",
       "    <tr>\n",
       "      <td>11</td>\n",
       "      <td>NaN</td>\n",
       "      <td>False</td>\n",
       "    </tr>\n",
       "    <tr>\n",
       "      <td>12</td>\n",
       "      <td>An ORC-tastic journey of ELVISH proportions</td>\n",
       "      <td>False</td>\n",
       "    </tr>\n",
       "    <tr>\n",
       "      <td>13</td>\n",
       "      <td>NaN</td>\n",
       "      <td>False</td>\n",
       "    </tr>\n",
       "    <tr>\n",
       "      <td>14</td>\n",
       "      <td>NaN</td>\n",
       "      <td>False</td>\n",
       "    </tr>\n",
       "  </tbody>\n",
       "</table>\n",
       "</div>"
      ],
      "text/plain": [
       "                                        tagline  video\n",
       "11                                          NaN  False\n",
       "12  An ORC-tastic journey of ELVISH proportions  False\n",
       "13                                          NaN  False\n",
       "14                                          NaN  False"
      ]
     },
     "execution_count": 77,
     "metadata": {},
     "output_type": "execute_result"
    }
   ],
   "source": [
    "# Checking what is in these columns.\n",
    "# They will be dropped, as not usefull for the current analysis.\n",
    "df[['tagline', 'video']][11:15]"
   ]
  },
  {
   "cell_type": "code",
   "execution_count": 78,
   "metadata": {},
   "outputs": [],
   "source": [
    "# dropping columns that not going to be used in this project\n",
    "df.drop(columns = ['Unnamed: 0', 'Unnamed: 0.1', 'adult', 'imdb_id','backdrop_path','belongs_to_collection','homepage', 'overview', 'poster_path','tagline','video'], inplace= True)"
   ]
  },
  {
   "cell_type": "code",
   "execution_count": 79,
   "metadata": {},
   "outputs": [
    {
     "data": {
      "text/plain": [
       "(6743, 16)"
      ]
     },
     "execution_count": 79,
     "metadata": {},
     "output_type": "execute_result"
    }
   ],
   "source": [
    "# check that columns are dropped\n",
    "df.shape"
   ]
  },
  {
   "cell_type": "code",
   "execution_count": 80,
   "metadata": {},
   "outputs": [
    {
     "data": {
      "text/plain": [
       "Index(['budget', 'genres', 'id', 'original_language', 'original_title',\n",
       "       'popularity', 'production_companies', 'production_countries',\n",
       "       'release_date', 'revenue', 'runtime', 'spoken_languages', 'status',\n",
       "       'title', 'vote_average', 'vote_count'],\n",
       "      dtype='object')"
      ]
     },
     "execution_count": 80,
     "metadata": {},
     "output_type": "execute_result"
    }
   ],
   "source": [
    "# check that columns are dropped\n",
    "df.columns"
   ]
  },
  {
   "cell_type": "markdown",
   "metadata": {},
   "source": [
    "### 3b. Dealing with NaN  and 0 values"
   ]
  },
  {
   "cell_type": "code",
   "execution_count": 81,
   "metadata": {},
   "outputs": [
    {
     "data": {
      "text/plain": [
       "budget                   1\n",
       "genres                   1\n",
       "id                       1\n",
       "original_language        1\n",
       "original_title           1\n",
       "popularity               1\n",
       "production_companies     1\n",
       "production_countries     1\n",
       "release_date             1\n",
       "revenue                  1\n",
       "runtime                 33\n",
       "spoken_languages         1\n",
       "status                   1\n",
       "title                    1\n",
       "vote_average             1\n",
       "vote_count               1\n",
       "dtype: int64"
      ]
     },
     "execution_count": 81,
     "metadata": {},
     "output_type": "execute_result"
    }
   ],
   "source": [
    "# Nan values\n",
    "df.isna().sum()"
   ]
  },
  {
   "cell_type": "code",
   "execution_count": 82,
   "metadata": {},
   "outputs": [
    {
     "data": {
      "text/plain": [
       "mean      99.616320\n",
       "median    98.000000\n",
       "std       21.622115\n",
       "Name: runtime, dtype: float64"
      ]
     },
     "execution_count": 82,
     "metadata": {},
     "output_type": "execute_result"
    }
   ],
   "source": [
    "# Check the runtime mean, median, and variation. Without including 0 values.\n",
    "df['runtime'].loc[df['runtime']!=0].agg(['mean','median','std'])"
   ]
  },
  {
   "cell_type": "code",
   "execution_count": 83,
   "metadata": {},
   "outputs": [],
   "source": [
    "# Instead of dropping rows with NaN 'runtime' values,\n",
    "# replace with median. (mean and median have close values)\n",
    "df['runtime'].fillna(inplace = True, value = df['runtime'].loc[df['runtime']!=0].median())"
   ]
  },
  {
   "cell_type": "code",
   "execution_count": 84,
   "metadata": {},
   "outputs": [
    {
     "data": {
      "text/plain": [
       "mean      99.608255\n",
       "median    98.000000\n",
       "std       21.568399\n",
       "Name: runtime, dtype: float64"
      ]
     },
     "execution_count": 84,
     "metadata": {},
     "output_type": "execute_result"
    }
   ],
   "source": [
    "# Check again the runtime mean, median, and variation.\n",
    "df['runtime'].loc[df['runtime']!=0].agg(['mean','median','std'])\n",
    "\n",
    "# mean and variation not changed much. Ok to proceed."
   ]
  },
  {
   "cell_type": "code",
   "execution_count": 85,
   "metadata": {},
   "outputs": [
    {
     "data": {
      "text/plain": [
       "(6742, 16)"
      ]
     },
     "execution_count": 85,
     "metadata": {},
     "output_type": "execute_result"
    }
   ],
   "source": [
    "# drop remaining NA values, as the amount is 1 in each colummn only.\n",
    "df.dropna(inplace=True)\n",
    "df.shape"
   ]
  },
  {
   "cell_type": "code",
   "execution_count": 86,
   "metadata": {},
   "outputs": [
    {
     "data": {
      "text/plain": [
       "budget                  0\n",
       "genres                  0\n",
       "id                      0\n",
       "original_language       0\n",
       "original_title          0\n",
       "popularity              0\n",
       "production_companies    0\n",
       "production_countries    0\n",
       "release_date            0\n",
       "revenue                 0\n",
       "runtime                 0\n",
       "spoken_languages        0\n",
       "status                  0\n",
       "title                   0\n",
       "vote_average            0\n",
       "vote_count              0\n",
       "dtype: int64"
      ]
     },
     "execution_count": 86,
     "metadata": {},
     "output_type": "execute_result"
    }
   ],
   "source": [
    "# check if no NaN values left\n",
    "df.isna().sum()"
   ]
  },
  {
   "cell_type": "code",
   "execution_count": 87,
   "metadata": {},
   "outputs": [
    {
     "data": {
      "text/plain": [
       "(129, 16)"
      ]
     },
     "execution_count": 87,
     "metadata": {},
     "output_type": "execute_result"
    }
   ],
   "source": [
    "# count the number of movies with runtime data missing\n",
    "df.loc[df['runtime']==0].shape"
   ]
  },
  {
   "cell_type": "code",
   "execution_count": 88,
   "metadata": {},
   "outputs": [],
   "source": [
    "# Instead of dropping rows with NaN 'runtime' values,\n",
    "# replace with median. (mean and median have close values)\n",
    "df['runtime'].replace(to_replace = 0, value = df['runtime'].loc[df['runtime']!=0].median(),\n",
    "                     inplace = True)"
   ]
  },
  {
   "cell_type": "code",
   "execution_count": 89,
   "metadata": {},
   "outputs": [
    {
     "data": {
      "text/plain": [
       "(0, 16)"
      ]
     },
     "execution_count": 89,
     "metadata": {},
     "output_type": "execute_result"
    }
   ],
   "source": [
    "# confirm no 0 values in runtime\n",
    "df.loc[df['runtime']==0].shape"
   ]
  },
  {
   "cell_type": "code",
   "execution_count": 90,
   "metadata": {},
   "outputs": [
    {
     "data": {
      "text/plain": [
       "mean      99.577722\n",
       "median    98.000000\n",
       "std       21.363772\n",
       "Name: runtime, dtype: float64"
      ]
     },
     "execution_count": 90,
     "metadata": {},
     "output_type": "execute_result"
    }
   ],
   "source": [
    "# check again runtime values\n",
    "df['runtime'].agg(['mean','median','std'])\n",
    "# mean and variation not changed much. Ok to proceed."
   ]
  },
  {
   "cell_type": "markdown",
   "metadata": {},
   "source": [
    "#### For this project, we need values with non-zero revenues. Lets explore the 'status' of movies column and 'revenue'"
   ]
  },
  {
   "cell_type": "code",
   "execution_count": 91,
   "metadata": {},
   "outputs": [
    {
     "data": {
      "text/plain": [
       "0.0            3334\n",
       "10000000.0        3\n",
       "102000000.0       3\n",
       "21.0              2\n",
       "2400000.0         2\n",
       "               ... \n",
       "47536959.0        1\n",
       "12000000.0        1\n",
       "261465.0          1\n",
       "123384128.0       1\n",
       "56359980.0        1\n",
       "Name: revenue, Length: 3391, dtype: int64"
      ]
     },
     "execution_count": 91,
     "metadata": {},
     "output_type": "execute_result"
    }
   ],
   "source": [
    "# count the number of movies with revenue data missing(0 values)\n",
    "df['revenue'].value_counts()"
   ]
  },
  {
   "cell_type": "code",
   "execution_count": 92,
   "metadata": {},
   "outputs": [],
   "source": [
    "# About half of the movies do not have revenue values. \n",
    "# Even so, it is a very big proportion of the data, 0 values will be dropped \n",
    "# as we need non zero values for the financial analysis (like comparing revenue \n",
    "# with budget, etc)\n",
    "\n",
    "df = df.loc[df['revenue']!=0]"
   ]
  },
  {
   "cell_type": "code",
   "execution_count": 93,
   "metadata": {},
   "outputs": [
    {
     "data": {
      "text/plain": [
       "10000000.0     3\n",
       "102000000.0    3\n",
       "4500000.0      2\n",
       "24000000.0     2\n",
       "6700000.0      2\n",
       "              ..\n",
       "743559607.0    1\n",
       "3430018.0      1\n",
       "163403799.0    1\n",
       "23507567.0     1\n",
       "7.0            1\n",
       "Name: revenue, Length: 3390, dtype: int64"
      ]
     },
     "execution_count": 93,
     "metadata": {},
     "output_type": "execute_result"
    }
   ],
   "source": [
    "# confirm that revenue has no 0 values\n",
    "df['revenue'].value_counts()"
   ]
  },
  {
   "cell_type": "code",
   "execution_count": 94,
   "metadata": {},
   "outputs": [
    {
     "data": {
      "text/plain": [
       "3800000.0        1\n",
       "220000000.0      1\n",
       "4798235.0        1\n",
       "163000000.0      1\n",
       "3700000.0        1\n",
       "              ... \n",
       "40000000.0     109\n",
       "25000000.0     116\n",
       "30000000.0     123\n",
       "20000000.0     130\n",
       "0.0            592\n",
       "Name: budget, Length: 335, dtype: int64"
      ]
     },
     "execution_count": 94,
     "metadata": {},
     "output_type": "execute_result"
    }
   ],
   "source": [
    "# check 0 values for budget\n",
    "df['budget'].value_counts(ascending=True)"
   ]
  },
  {
   "cell_type": "code",
   "execution_count": 103,
   "metadata": {},
   "outputs": [
    {
     "data": {
      "text/plain": [
       "(193, 16)"
      ]
     },
     "execution_count": 103,
     "metadata": {},
     "output_type": "execute_result"
    }
   ],
   "source": [
    "# check how much of the data has revenue > 50,0000,000 and missing budget.\n",
    "# As it is significant amount of movies with 'medium' amount of revenue. \n",
    "# 0 budget rows will not be dropped, as it is planned to investigate revenue vs genres.\n",
    "# NOTE: for (revenue - budget), 0 budget will not be used.\n",
    "\n",
    "df.loc[(df['budget']==0) & (df['revenue']>5000000)].shape"
   ]
  },
  {
   "cell_type": "code",
   "execution_count": 104,
   "metadata": {},
   "outputs": [],
   "source": [
    "# cleaning the 'genres' column and convert from string object to list of genres\n",
    "# Use defined function: string_list()\n",
    "df['genres'] = df['genres'].apply(lambda x: values_list(string_list(x), target_elem=-1))"
   ]
  },
  {
   "cell_type": "code",
   "execution_count": 110,
   "metadata": {},
   "outputs": [
    {
     "data": {
      "text/plain": [
       "['Horror', 'Science Fiction', 'Thriller']"
      ]
     },
     "execution_count": 110,
     "metadata": {},
     "output_type": "execute_result"
    }
   ],
   "source": [
    "# test random row\n",
    "df.genres[30]"
   ]
  },
  {
   "cell_type": "code",
   "execution_count": 111,
   "metadata": {},
   "outputs": [],
   "source": [
    "# cleaning the 'spoken_languages' column and convert from string object to list of spoken_languages\n",
    "df['spoken_languages'] = df['spoken_languages'].apply(lambda x: values_list(string_list(x), target_elem = 0))"
   ]
  },
  {
   "cell_type": "code",
   "execution_count": 112,
   "metadata": {},
   "outputs": [],
   "source": [
    "# cleaning the 'production_companies' column and convert from string object to list of production_companies\n",
    "df['production_companies'] = df['production_companies'].apply(lambda x: values_list(string_list(x), target_elem = 2))"
   ]
  },
  {
   "cell_type": "code",
   "execution_count": 113,
   "metadata": {},
   "outputs": [],
   "source": [
    "# cleaning the 'production_countries' column and convert from string object to list of production_countries\n",
    "df['production_countries'] = df['production_countries'].apply(lambda x: values_list(string_list(x), target_elem = 0))"
   ]
  },
  {
   "cell_type": "code",
   "execution_count": 115,
   "metadata": {},
   "outputs": [
    {
     "data": {
      "text/plain": [
       "Released    3408\n",
       "Name: status, dtype: int64"
      ]
     },
     "execution_count": 115,
     "metadata": {},
     "output_type": "execute_result"
    }
   ],
   "source": [
    "# Check if 'status' column can be dropped\n",
    "df['status'].value_counts()"
   ]
  },
  {
   "cell_type": "code",
   "execution_count": 116,
   "metadata": {},
   "outputs": [],
   "source": [
    "# Status column will be dropped. All movies left are released.\n",
    "\n",
    "df.drop(columns=['status'], inplace = True)"
   ]
  },
  {
   "cell_type": "code",
   "execution_count": 119,
   "metadata": {},
   "outputs": [
    {
     "data": {
      "text/html": [
       "<div>\n",
       "<style scoped>\n",
       "    .dataframe tbody tr th:only-of-type {\n",
       "        vertical-align: middle;\n",
       "    }\n",
       "\n",
       "    .dataframe tbody tr th {\n",
       "        vertical-align: top;\n",
       "    }\n",
       "\n",
       "    .dataframe thead th {\n",
       "        text-align: right;\n",
       "    }\n",
       "</style>\n",
       "<table border=\"1\" class=\"dataframe\">\n",
       "  <thead>\n",
       "    <tr style=\"text-align: right;\">\n",
       "      <th></th>\n",
       "      <th>budget</th>\n",
       "      <th>genres</th>\n",
       "      <th>id</th>\n",
       "      <th>original_language</th>\n",
       "      <th>original_title</th>\n",
       "      <th>popularity</th>\n",
       "      <th>production_companies</th>\n",
       "      <th>production_countries</th>\n",
       "      <th>release_date</th>\n",
       "      <th>revenue</th>\n",
       "      <th>runtime</th>\n",
       "      <th>spoken_languages</th>\n",
       "      <th>title</th>\n",
       "      <th>vote_average</th>\n",
       "      <th>vote_count</th>\n",
       "    </tr>\n",
       "  </thead>\n",
       "  <tbody>\n",
       "    <tr>\n",
       "      <td>0</td>\n",
       "      <td>50000000.0</td>\n",
       "      <td>[Horror, Science Fiction, Thriller]</td>\n",
       "      <td>443791.0</td>\n",
       "      <td>en</td>\n",
       "      <td>Underwater</td>\n",
       "      <td>16.698</td>\n",
       "      <td>[Chernin Entertainment, 20th Century Fox, TSG ...</td>\n",
       "      <td>[US]</td>\n",
       "      <td>2020-01-08</td>\n",
       "      <td>33617430.0</td>\n",
       "      <td>95.0</td>\n",
       "      <td>[en]</td>\n",
       "      <td>Underwater</td>\n",
       "      <td>6.0</td>\n",
       "      <td>223.0</td>\n",
       "    </tr>\n",
       "    <tr>\n",
       "      <td>1</td>\n",
       "      <td>0.0</td>\n",
       "      <td>[Drama, Adventure, Thriller]</td>\n",
       "      <td>400090.0</td>\n",
       "      <td>en</td>\n",
       "      <td>The Nightingale</td>\n",
       "      <td>9.743</td>\n",
       "      <td>[Bron Studios, Causeway Films, Made Up Stories...</td>\n",
       "      <td>[AU]</td>\n",
       "      <td>2019-08-02</td>\n",
       "      <td>800448.0</td>\n",
       "      <td>136.0</td>\n",
       "      <td>[en, ga]</td>\n",
       "      <td>The Nightingale</td>\n",
       "      <td>7.4</td>\n",
       "      <td>131.0</td>\n",
       "    </tr>\n",
       "    <tr>\n",
       "      <td>2</td>\n",
       "      <td>0.0</td>\n",
       "      <td>[Comedy]</td>\n",
       "      <td>440762.0</td>\n",
       "      <td>en</td>\n",
       "      <td>Jay and Silent Bob Reboot</td>\n",
       "      <td>26.096</td>\n",
       "      <td>[SModcast Pictures, View Askew Productions, Mi...</td>\n",
       "      <td>[US]</td>\n",
       "      <td>2019-10-15</td>\n",
       "      <td>1011305.0</td>\n",
       "      <td>95.0</td>\n",
       "      <td>[en, de, it]</td>\n",
       "      <td>Jay and Silent Bob Reboot</td>\n",
       "      <td>6.1</td>\n",
       "      <td>99.0</td>\n",
       "    </tr>\n",
       "  </tbody>\n",
       "</table>\n",
       "</div>"
      ],
      "text/plain": [
       "       budget                               genres        id  \\\n",
       "0  50000000.0  [Horror, Science Fiction, Thriller]  443791.0   \n",
       "1         0.0         [Drama, Adventure, Thriller]  400090.0   \n",
       "2         0.0                             [Comedy]  440762.0   \n",
       "\n",
       "  original_language             original_title  popularity  \\\n",
       "0                en                 Underwater      16.698   \n",
       "1                en            The Nightingale       9.743   \n",
       "2                en  Jay and Silent Bob Reboot      26.096   \n",
       "\n",
       "                                production_companies production_countries  \\\n",
       "0  [Chernin Entertainment, 20th Century Fox, TSG ...                 [US]   \n",
       "1  [Bron Studios, Causeway Films, Made Up Stories...                 [AU]   \n",
       "2  [SModcast Pictures, View Askew Productions, Mi...                 [US]   \n",
       "\n",
       "  release_date     revenue  runtime spoken_languages  \\\n",
       "0   2020-01-08  33617430.0     95.0             [en]   \n",
       "1   2019-08-02    800448.0    136.0         [en, ga]   \n",
       "2   2019-10-15   1011305.0     95.0     [en, de, it]   \n",
       "\n",
       "                       title  vote_average  vote_count  \n",
       "0                 Underwater           6.0       223.0  \n",
       "1            The Nightingale           7.4       131.0  \n",
       "2  Jay and Silent Bob Reboot           6.1        99.0  "
      ]
     },
     "execution_count": 119,
     "metadata": {},
     "output_type": "execute_result"
    }
   ],
   "source": [
    "# confirm if the data frame values are changed as expected\n",
    "# Lets also reset index\n",
    "df.reset_index(inplace = True)\n",
    "df.drop(columns = ['index'], inplace = True)\n",
    "df.head(3)"
   ]
  },
  {
   "cell_type": "code",
   "execution_count": 120,
   "metadata": {},
   "outputs": [],
   "source": [
    "# lets replace release date with released year\n",
    "\n",
    "# convert release_date to 'datetime' type\n",
    "df['release_date'] = pd.to_datetime(df.release_date) \n",
    "\n",
    "# replace a column with years values only\n",
    "df['release_date'] = df.release_date.dt.year"
   ]
  },
  {
   "cell_type": "code",
   "execution_count": 124,
   "metadata": {},
   "outputs": [
    {
     "data": {
      "text/plain": [
       "0    2020\n",
       "1    2019\n",
       "2    2019\n",
       "Name: release_date, dtype: int64"
      ]
     },
     "execution_count": 124,
     "metadata": {},
     "output_type": "execute_result"
    }
   ],
   "source": [
    "# confirm released_date column changed\n",
    "df['release_date'].head(3)"
   ]
  },
  {
   "cell_type": "code",
   "execution_count": 128,
   "metadata": {},
   "outputs": [
    {
     "data": {
      "text/plain": [
       "0"
      ]
     },
     "execution_count": 128,
     "metadata": {},
     "output_type": "execute_result"
    }
   ],
   "source": [
    "# check if any missing values for vote\n",
    "(df.vote_average==0).sum()"
   ]
  },
  {
   "cell_type": "code",
   "execution_count": 130,
   "metadata": {},
   "outputs": [
    {
     "data": {
      "text/plain": [
       "0"
      ]
     },
     "execution_count": 130,
     "metadata": {},
     "output_type": "execute_result"
    }
   ],
   "source": [
    "# check if any missing values for populaity\n",
    "# populairity is complex metric per tmbd.org description\n",
    "# https://developers.themoviedb.org/3/getting-started/popularity\n",
    "\n",
    "(df.popularity==0).sum()"
   ]
  },
  {
   "cell_type": "code",
   "execution_count": 132,
   "metadata": {},
   "outputs": [
    {
     "data": {
      "text/plain": [
       "131.0     9\n",
       "139.0     9\n",
       "140.0     8\n",
       "142.0     8\n",
       "113.0     8\n",
       "         ..\n",
       "3457.0    1\n",
       "2295.0    1\n",
       "3931.0    1\n",
       "4191.0    1\n",
       "3271.0    1\n",
       "Name: vote_count, Length: 2031, dtype: int64"
      ]
     },
     "execution_count": 132,
     "metadata": {},
     "output_type": "execute_result"
    }
   ],
   "source": [
    "# explore vote_count values\n",
    "df.vote_count.value_counts()"
   ]
  },
  {
   "cell_type": "markdown",
   "metadata": {},
   "source": [
    "#### Check for value counts for some columns:  genres, original_language, production_companies, production_countries, spoken_languages"
   ]
  },
  {
   "cell_type": "code",
   "execution_count": 138,
   "metadata": {},
   "outputs": [
    {
     "data": {
      "text/plain": [
       "en    3408\n",
       "Name: original_language, dtype: int64"
      ]
     },
     "execution_count": 138,
     "metadata": {},
     "output_type": "execute_result"
    }
   ],
   "source": [
    "# This column can be dropped.\n",
    "# 0riginal_language is the same for all movies(English)\n",
    "df.original_language.value_counts()"
   ]
  },
  {
   "cell_type": "code",
   "execution_count": 170,
   "metadata": {},
   "outputs": [],
   "source": [
    "# In addition the following columns will be dropped as they will not be used in the analysis:\n",
    "# production_countries,spoken_languages. But we will use production_companies for the analysis.\n",
    "\n",
    "df.drop(columns = ['original_language', 'spoken_languages', 'production_countries'], inplace= True)\n"
   ]
  },
  {
   "cell_type": "code",
   "execution_count": 175,
   "metadata": {},
   "outputs": [
    {
     "data": {
      "text/plain": [
       "Index(['budget', 'genres', 'id', 'original_title', 'popularity',\n",
       "       'production_companies', 'release_date', 'revenue', 'runtime', 'title',\n",
       "       'vote_average', 'vote_count'],\n",
       "      dtype='object')"
      ]
     },
     "execution_count": 175,
     "metadata": {},
     "output_type": "execute_result"
    }
   ],
   "source": [
    "# Confirming that columns dropped\n",
    "df.columns"
   ]
  },
  {
   "cell_type": "code",
   "execution_count": 176,
   "metadata": {},
   "outputs": [],
   "source": [
    "# creating csv files\n",
    "# uncomment below only if changes are made:\n",
    "\n",
    "df.to_csv('df_cleaned.csv',index=False)"
   ]
  },
  {
   "cell_type": "markdown",
   "metadata": {},
   "source": [
    "## 4. Data Analysis\n"
   ]
  },
  {
   "cell_type": "markdown",
   "metadata": {},
   "source": [
    "### Analysis of data frame (for years 2000 - 2019)"
   ]
  },
  {
   "cell_type": "code",
   "execution_count": 357,
   "metadata": {},
   "outputs": [
    {
     "data": {
      "text/plain": [
       "(3393, 12)"
      ]
     },
     "execution_count": 357,
     "metadata": {},
     "output_type": "execute_result"
    }
   ],
   "source": [
    "# getting only release year 2000 till 2019\n",
    "df = df.loc[(df['release_date']>=2000)&(df['release_date']<=2019)]\n",
    "df.shape"
   ]
  },
  {
   "cell_type": "code",
   "execution_count": 194,
   "metadata": {},
   "outputs": [
    {
     "data": {
      "text/plain": [
       "Index(['budget', 'genres', 'id', 'original_title', 'popularity',\n",
       "       'production_companies', 'release_date', 'revenue', 'runtime', 'title',\n",
       "       'vote_average', 'vote_count'],\n",
       "      dtype='object')"
      ]
     },
     "execution_count": 194,
     "metadata": {},
     "output_type": "execute_result"
    }
   ],
   "source": [
    "df.columns"
   ]
  },
  {
   "cell_type": "markdown",
   "metadata": {},
   "source": [
    "### Checking for revenue and income=(revenue-budget) vs genres"
   ]
  },
  {
   "cell_type": "code",
   "execution_count": 207,
   "metadata": {},
   "outputs": [
    {
     "data": {
      "text/plain": [
       "1    [Drama, Adventure, Thriller]\n",
       "2                        [Comedy]\n",
       "3                        [Comedy]\n",
       "4             [Adventure, Family]\n",
       "5      [Thriller, Drama, Mystery]\n",
       "Name: genres, dtype: object"
      ]
     },
     "execution_count": 207,
     "metadata": {},
     "output_type": "execute_result"
    }
   ],
   "source": [
    "# Each element in the genres column is the list of genres.\n",
    "df['genres'].head()"
   ]
  },
  {
   "cell_type": "code",
   "execution_count": 243,
   "metadata": {},
   "outputs": [],
   "source": [
    "# lets calculate the length of each list\n",
    "number_of_genres = df['genres'].map(lambda x: len(x))"
   ]
  },
  {
   "cell_type": "code",
   "execution_count": 244,
   "metadata": {},
   "outputs": [],
   "source": [
    "# convert to list\n",
    "number_of_genres = number_of_genres.to_list()"
   ]
  },
  {
   "cell_type": "code",
   "execution_count": 245,
   "metadata": {},
   "outputs": [
    {
     "data": {
      "text/plain": [
       "[3, 1, 1, 2, 3]"
      ]
     },
     "execution_count": 245,
     "metadata": {},
     "output_type": "execute_result"
    }
   ],
   "source": [
    "# test if it worked correctly\n",
    "number_of_genres[:5]"
   ]
  },
  {
   "cell_type": "code",
   "execution_count": 219,
   "metadata": {},
   "outputs": [
    {
     "data": {
      "text/plain": [
       "[['Drama', 'Adventure', 'Thriller'],\n",
       " ['Comedy'],\n",
       " ['Comedy'],\n",
       " ['Adventure', 'Family'],\n",
       " ['Thriller', 'Drama', 'Mystery']]"
      ]
     },
     "execution_count": 219,
     "metadata": {},
     "output_type": "execute_result"
    }
   ],
   "source": [
    "# Because we have multiple genres for each movie.\n",
    "# The revenue and budget values will be divided by number of genres \n",
    "# This will get normalized values(revenue, budget) per genre in each movie\n",
    "\n",
    "# Now create new list with genres unstacked\n",
    "genres_list = df['genres'].to_list()\n",
    "genres_list[:5]\n"
   ]
  },
  {
   "cell_type": "code",
   "execution_count": 220,
   "metadata": {},
   "outputs": [
    {
     "data": {
      "text/plain": [
       "8784"
      ]
     },
     "execution_count": 220,
     "metadata": {},
     "output_type": "execute_result"
    }
   ],
   "source": [
    "# now remove sublists in genres_list\n",
    "genres_list = flat_list(genres_list)\n",
    "len(genres_list)"
   ]
  },
  {
   "cell_type": "code",
   "execution_count": 221,
   "metadata": {},
   "outputs": [
    {
     "data": {
      "text/plain": [
       "True"
      ]
     },
     "execution_count": 221,
     "metadata": {},
     "output_type": "execute_result"
    }
   ],
   "source": [
    "# test if flat list is correct in length\n",
    "len(genres_list) == number_of_genres.sum()"
   ]
  },
  {
   "cell_type": "code",
   "execution_count": 259,
   "metadata": {},
   "outputs": [],
   "source": [
    "# reset index\n",
    "df.reset_index(inplace = True)\n",
    "df.drop(columns = ['index'], inplace = True)"
   ]
  },
  {
   "cell_type": "code",
   "execution_count": 260,
   "metadata": {},
   "outputs": [
    {
     "data": {
      "text/plain": [
       "RangeIndex(start=0, stop=3393, step=1)"
      ]
     },
     "execution_count": 260,
     "metadata": {},
     "output_type": "execute_result"
    }
   ],
   "source": [
    "df.index"
   ]
  },
  {
   "cell_type": "code",
   "execution_count": null,
   "metadata": {},
   "outputs": [],
   "source": []
  },
  {
   "cell_type": "code",
   "execution_count": 261,
   "metadata": {},
   "outputs": [
    {
     "data": {
      "text/plain": [
       "0    8.004480e+05\n",
       "1    1.011305e+06\n",
       "2    2.484903e+07\n",
       "3    1.656943e+09\n",
       "4    2.572430e+07\n",
       "Name: revenue, dtype: float64"
      ]
     },
     "execution_count": 261,
     "metadata": {},
     "output_type": "execute_result"
    }
   ],
   "source": [
    "df.revenue[:5]"
   ]
  },
  {
   "cell_type": "code",
   "execution_count": 249,
   "metadata": {
    "scrolled": true
   },
   "outputs": [
    {
     "data": {
      "text/plain": [
       "[3, 1, 1, 2, 3]"
      ]
     },
     "execution_count": 249,
     "metadata": {},
     "output_type": "execute_result"
    }
   ],
   "source": [
    "number_of_genres[:5]"
   ]
  },
  {
   "cell_type": "code",
   "execution_count": 267,
   "metadata": {},
   "outputs": [
    {
     "data": {
      "text/plain": [
       "3393"
      ]
     },
     "execution_count": 267,
     "metadata": {},
     "output_type": "execute_result"
    }
   ],
   "source": [
    "len(number_of_genres)"
   ]
  },
  {
   "cell_type": "code",
   "execution_count": 264,
   "metadata": {},
   "outputs": [
    {
     "data": {
      "text/plain": [
       "0    8.004480e+05\n",
       "1    1.011305e+06\n",
       "2    2.484903e+07\n",
       "3    1.656943e+09\n",
       "4    2.572430e+07\n",
       "Name: revenue, dtype: float64"
      ]
     },
     "execution_count": 264,
     "metadata": {},
     "output_type": "execute_result"
    }
   ],
   "source": [
    "transform_list"
   ]
  },
  {
   "cell_type": "code",
   "execution_count": 275,
   "metadata": {},
   "outputs": [],
   "source": [
    "# transform revenue list to make it the same length as genres_list\n",
    "revenue_list_extended = flat_list(transform_list(df.revenue, number_of_genres))"
   ]
  },
  {
   "cell_type": "code",
   "execution_count": 328,
   "metadata": {},
   "outputs": [
    {
     "data": {
      "text/plain": [
       "True"
      ]
     },
     "execution_count": 328,
     "metadata": {},
     "output_type": "execute_result"
    }
   ],
   "source": [
    "len(revenue_list_extended)==len(genres_list)"
   ]
  },
  {
   "cell_type": "code",
   "execution_count": 333,
   "metadata": {},
   "outputs": [],
   "source": [
    "# create data frame to plot genres vs revenue\n",
    "df_plot_1 = pd.DataFrame(columns = ['genres', 'revenue'])"
   ]
  },
  {
   "cell_type": "code",
   "execution_count": 335,
   "metadata": {},
   "outputs": [],
   "source": [
    "df_plot_1['genres'] = genres_list\n",
    "df_plot_1['revenue'] = revenue_list_extended"
   ]
  },
  {
   "cell_type": "code",
   "execution_count": 349,
   "metadata": {},
   "outputs": [],
   "source": [
    "df_plot_1 = df_plot_1.groupby('genres').sum()\n",
    "df_plot_1.reset_index(inplace = True)\n",
    "df_plot_1.sort_values(by='revenue', ascending=False, inplace = True)"
   ]
  },
  {
   "cell_type": "code",
   "execution_count": 390,
   "metadata": {},
   "outputs": [
    {
     "data": {
      "image/png": "[encoded data removed]",
      "text/plain": [
       "<Figure size 1296x576 with 1 Axes>"
      ]
     },
     "metadata": {
      "needs_background": "light"
     },
     "output_type": "display_data"
    }
   ],
   "source": [
    "plt.figure(figsize=(18,8))\n",
    "plt.bar(df_plot_1['genres'],df_plot_1['revenue'], \n",
    "        color=['cyan','blue','purple','yellow','magenta','green'])\n",
    "\n",
    "plt.title(\"Accumulated Revenue per Genre for period 2000-2019.\")\n",
    "plt.xlabel('Genres')\n",
    "plt.ylabel('Accumulated Revenue')\n",
    "plt.savefig('Revenue_per_Genre.png', dpi=400)\n",
    "plt.show()"
   ]
  },
  {
   "cell_type": "code",
   "execution_count": 360,
   "metadata": {},
   "outputs": [
    {
     "data": {
      "text/plain": [
       "(2803, 12)"
      ]
     },
     "execution_count": 360,
     "metadata": {},
     "output_type": "execute_result"
    }
   ],
   "source": [
    "# fo this nalysis we drop 0 budget rows\n",
    "df_plot_2 = df.loc[df['budget']!=0]\n",
    "df_plot_2.shape"
   ]
  },
  {
   "cell_type": "code",
   "execution_count": 391,
   "metadata": {},
   "outputs": [
    {
     "data": {
      "image/png": "[encoded data removed]",
      "text/plain": [
       "<Figure size 720x720 with 1 Axes>"
      ]
     },
     "metadata": {
      "needs_background": "light"
     },
     "output_type": "display_data"
    }
   ],
   "source": [
    "plt.figure(figsize=(10,10))\n",
    "\n",
    "plt.scatter(x=df['budget'], y = df['revenue']-df['budget'])\n",
    "\n",
    "plt.title(\"Budget vs Income for period 2000-2019.\")\n",
    "plt.xlabel('Budget')\n",
    "plt.ylabel('Income')\n",
    "plt.savefig('Budget_vs_Income.png', dpi=400)\n",
    "plt.show()"
   ]
  },
  {
   "cell_type": "code",
   "execution_count": 392,
   "metadata": {},
   "outputs": [
    {
     "data": {
      "image/png": "[encoded data removed]",
      "text/plain": [
       "<Figure size 720x720 with 1 Axes>"
      ]
     },
     "metadata": {
      "needs_background": "light"
     },
     "output_type": "display_data"
    }
   ],
   "source": [
    "plt.figure(figsize=(10,10))\n",
    "\n",
    "plt.scatter(x=df['revenue']-df['budget'], y = df['popularity'])\n",
    "\n",
    "plt.title(\"Income vs Popularity for period 2000-2019.\")\n",
    "plt.xlabel('Income')\n",
    "plt.ylabel('Poularity')\n",
    "plt.savefig('Popularity.png', dpi=400)\n",
    "plt.show()"
   ]
  },
  {
   "cell_type": "code",
   "execution_count": 378,
   "metadata": {},
   "outputs": [
    {
     "data": {
      "image/png": "[encoded data removed]",
      "text/plain": [
       "<Figure size 720x720 with 1 Axes>"
      ]
     },
     "metadata": {
      "needs_background": "light"
     },
     "output_type": "display_data"
    }
   ],
   "source": [
    "plt.figure(figsize=(10,10))\n",
    "\n",
    "plt.scatter(x=df['revenue']-df['budget'], y = df['vote_average'])\n",
    "\n",
    "plt.title(\"Income vs Vote Average for period 2000-2019.\")\n",
    "plt.xlabel('Income')\n",
    "plt.ylabel('Vote_Average')\n",
    "plt.show()"
   ]
  },
  {
   "cell_type": "code",
   "execution_count": 375,
   "metadata": {},
   "outputs": [
    {
     "data": {
      "text/plain": [
       "Index(['budget', 'genres', 'id', 'original_title', 'popularity',\n",
       "       'production_companies', 'release_date', 'revenue', 'runtime', 'title',\n",
       "       'vote_average', 'vote_count'],\n",
       "      dtype='object')"
      ]
     },
     "execution_count": 375,
     "metadata": {},
     "output_type": "execute_result"
    }
   ],
   "source": [
    "df.columns"
   ]
  },
  {
   "cell_type": "code",
   "execution_count": null,
   "metadata": {},
   "outputs": [],
   "source": []
  }
 ],
 "metadata": {
  "kernelspec": {
   "display_name": "Python 3",
   "language": "python",
   "name": "python3"
  },
  "language_info": {
   "codemirror_mode": {
    "name": "ipython",
    "version": 3
   },
   "file_extension": ".py",
   "mimetype": "text/x-python",
   "name": "python",
   "nbconvert_exporter": "python",
   "pygments_lexer": "ipython3",
   "version": "3.6.9"
  }
 },
 "nbformat": 4,
 "nbformat_minor": 2
}
