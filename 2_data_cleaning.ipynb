{
 "cells": [
  {
   "cell_type": "code",
   "execution_count": 250,
   "metadata": {},
   "outputs": [],
   "source": [
    "import pandas as pd\n",
    "import numpy as np\n",
    "import ast"
   ]
  },
  {
   "cell_type": "code",
   "execution_count": 251,
   "metadata": {},
   "outputs": [],
   "source": [
    "##  converts string list to list\n",
    "def string_list(string_):\n",
    "    list_= ast.literal_eval(string_)\n",
    "    return list_\n"
   ]
  },
  {
   "cell_type": "code",
   "execution_count": 252,
   "metadata": {},
   "outputs": [],
   "source": [
    "def values_list(list_dict, target_elem=-1):\n",
    "    if list_dict == []:\n",
    "        return list_dict\n",
    "    else:\n",
    "        list_ = list(map(lambda x: list(x.values())[target_elem], list_dict))\n",
    "        return list_"
   ]
  },
  {
   "cell_type": "code",
   "execution_count": 253,
   "metadata": {},
   "outputs": [],
   "source": [
    "df = pd.read_csv(\"df_movies.csv\")"
   ]
  },
  {
   "cell_type": "code",
   "execution_count": 254,
   "metadata": {},
   "outputs": [
    {
     "data": {
      "text/html": [
       "<div>\n",
       "<style scoped>\n",
       "    .dataframe tbody tr th:only-of-type {\n",
       "        vertical-align: middle;\n",
       "    }\n",
       "\n",
       "    .dataframe tbody tr th {\n",
       "        vertical-align: top;\n",
       "    }\n",
       "\n",
       "    .dataframe thead th {\n",
       "        text-align: right;\n",
       "    }\n",
       "</style>\n",
       "<table border=\"1\" class=\"dataframe\">\n",
       "  <thead>\n",
       "    <tr style=\"text-align: right;\">\n",
       "      <th></th>\n",
       "      <th>Unnamed: 0</th>\n",
       "      <th>Unnamed: 0.1</th>\n",
       "      <th>adult</th>\n",
       "      <th>backdrop_path</th>\n",
       "      <th>belongs_to_collection</th>\n",
       "      <th>budget</th>\n",
       "      <th>genres</th>\n",
       "      <th>homepage</th>\n",
       "      <th>id</th>\n",
       "      <th>imdb_id</th>\n",
       "      <th>...</th>\n",
       "      <th>release_date</th>\n",
       "      <th>revenue</th>\n",
       "      <th>runtime</th>\n",
       "      <th>spoken_languages</th>\n",
       "      <th>status</th>\n",
       "      <th>tagline</th>\n",
       "      <th>title</th>\n",
       "      <th>video</th>\n",
       "      <th>vote_average</th>\n",
       "      <th>vote_count</th>\n",
       "    </tr>\n",
       "  </thead>\n",
       "  <tbody>\n",
       "    <tr>\n",
       "      <td>0</td>\n",
       "      <td>0</td>\n",
       "      <td>3314</td>\n",
       "      <td>False</td>\n",
       "      <td>NaN</td>\n",
       "      <td>NaN</td>\n",
       "      <td>0.0</td>\n",
       "      <td>[{'id': 28, 'name': 'Action'}]</td>\n",
       "      <td>NaN</td>\n",
       "      <td>508950.0</td>\n",
       "      <td>NaN</td>\n",
       "      <td>...</td>\n",
       "      <td>2022-07-29</td>\n",
       "      <td>0.0</td>\n",
       "      <td>NaN</td>\n",
       "      <td>[{'iso_639_1': 'en', 'name': 'English'}]</td>\n",
       "      <td>Planned</td>\n",
       "      <td>NaN</td>\n",
       "      <td>Untitled Marvel Project (3)</td>\n",
       "      <td>False</td>\n",
       "      <td>0.0</td>\n",
       "      <td>0.0</td>\n",
       "    </tr>\n",
       "    <tr>\n",
       "      <td>1</td>\n",
       "      <td>1</td>\n",
       "      <td>929</td>\n",
       "      <td>False</td>\n",
       "      <td>/41RgPQeAvDaJ1Msiok96chq2gnd.jpg</td>\n",
       "      <td>NaN</td>\n",
       "      <td>125000000.0</td>\n",
       "      <td>[{'id': 878, 'name': 'Science Fiction'}]</td>\n",
       "      <td>NaN</td>\n",
       "      <td>412656.0</td>\n",
       "      <td>tt2076822</td>\n",
       "      <td>...</td>\n",
       "      <td>2021-01-21</td>\n",
       "      <td>0.0</td>\n",
       "      <td>0.0</td>\n",
       "      <td>[{'iso_639_1': 'en', 'name': 'English'}]</td>\n",
       "      <td>Post Production</td>\n",
       "      <td>NaN</td>\n",
       "      <td>Chaos Walking</td>\n",
       "      <td>False</td>\n",
       "      <td>0.0</td>\n",
       "      <td>0.0</td>\n",
       "    </tr>\n",
       "    <tr>\n",
       "      <td>2</td>\n",
       "      <td>2</td>\n",
       "      <td>2006</td>\n",
       "      <td>False</td>\n",
       "      <td>NaN</td>\n",
       "      <td>NaN</td>\n",
       "      <td>0.0</td>\n",
       "      <td>[]</td>\n",
       "      <td>NaN</td>\n",
       "      <td>607259.0</td>\n",
       "      <td>tt4733624</td>\n",
       "      <td>...</td>\n",
       "      <td>2021-01-06</td>\n",
       "      <td>0.0</td>\n",
       "      <td>0.0</td>\n",
       "      <td>[{'iso_639_1': 'en', 'name': 'English'}]</td>\n",
       "      <td>Post Production</td>\n",
       "      <td>NaN</td>\n",
       "      <td>Fatherhood</td>\n",
       "      <td>False</td>\n",
       "      <td>0.0</td>\n",
       "      <td>0.0</td>\n",
       "    </tr>\n",
       "    <tr>\n",
       "      <td>6741</td>\n",
       "      <td>4485</td>\n",
       "      <td>4485</td>\n",
       "      <td>False</td>\n",
       "      <td>/7CuXAFUWcOlR5kt07ln1fZDxdHX.jpg</td>\n",
       "      <td>NaN</td>\n",
       "      <td>70000000.0</td>\n",
       "      <td>[{'id': 16, 'name': 'Animation'}, {'id': 10751...</td>\n",
       "      <td>NaN</td>\n",
       "      <td>73723.0</td>\n",
       "      <td>tt1482459</td>\n",
       "      <td>...</td>\n",
       "      <td>2012-03-01</td>\n",
       "      <td>348840316.0</td>\n",
       "      <td>86.0</td>\n",
       "      <td>[{'iso_639_1': 'en', 'name': 'English'}]</td>\n",
       "      <td>Released</td>\n",
       "      <td>Meet The Original Force Of Nature</td>\n",
       "      <td>The Lorax</td>\n",
       "      <td>False</td>\n",
       "      <td>6.4</td>\n",
       "      <td>2063.0</td>\n",
       "    </tr>\n",
       "    <tr>\n",
       "      <td>6742</td>\n",
       "      <td>4486</td>\n",
       "      <td>4486</td>\n",
       "      <td>False</td>\n",
       "      <td>/8nyR0ffpbTDg9qN6FSscky0s2z.jpg</td>\n",
       "      <td>NaN</td>\n",
       "      <td>0.0</td>\n",
       "      <td>[{'id': 35, 'name': 'Comedy'}, {'id': 18, 'nam...</td>\n",
       "      <td>NaN</td>\n",
       "      <td>425980.0</td>\n",
       "      <td>tt5884230</td>\n",
       "      <td>...</td>\n",
       "      <td>2017-09-14</td>\n",
       "      <td>2400000.0</td>\n",
       "      <td>101.0</td>\n",
       "      <td>[{'iso_639_1': 'en', 'name': 'English'}]</td>\n",
       "      <td>Released</td>\n",
       "      <td>NaN</td>\n",
       "      <td>Brad's Status</td>\n",
       "      <td>False</td>\n",
       "      <td>6.1</td>\n",
       "      <td>194.0</td>\n",
       "    </tr>\n",
       "  </tbody>\n",
       "</table>\n",
       "<p>5 rows × 27 columns</p>\n",
       "</div>"
      ],
      "text/plain": [
       "      Unnamed: 0  Unnamed: 0.1  adult                     backdrop_path  \\\n",
       "0              0          3314  False                               NaN   \n",
       "1              1           929  False  /41RgPQeAvDaJ1Msiok96chq2gnd.jpg   \n",
       "2              2          2006  False                               NaN   \n",
       "6741        4485          4485  False  /7CuXAFUWcOlR5kt07ln1fZDxdHX.jpg   \n",
       "6742        4486          4486  False   /8nyR0ffpbTDg9qN6FSscky0s2z.jpg   \n",
       "\n",
       "     belongs_to_collection       budget  \\\n",
       "0                      NaN          0.0   \n",
       "1                      NaN  125000000.0   \n",
       "2                      NaN          0.0   \n",
       "6741                   NaN   70000000.0   \n",
       "6742                   NaN          0.0   \n",
       "\n",
       "                                                 genres homepage        id  \\\n",
       "0                        [{'id': 28, 'name': 'Action'}]      NaN  508950.0   \n",
       "1              [{'id': 878, 'name': 'Science Fiction'}]      NaN  412656.0   \n",
       "2                                                    []      NaN  607259.0   \n",
       "6741  [{'id': 16, 'name': 'Animation'}, {'id': 10751...      NaN   73723.0   \n",
       "6742  [{'id': 35, 'name': 'Comedy'}, {'id': 18, 'nam...      NaN  425980.0   \n",
       "\n",
       "        imdb_id  ... release_date      revenue runtime  \\\n",
       "0           NaN  ...   2022-07-29          0.0     NaN   \n",
       "1     tt2076822  ...   2021-01-21          0.0     0.0   \n",
       "2     tt4733624  ...   2021-01-06          0.0     0.0   \n",
       "6741  tt1482459  ...   2012-03-01  348840316.0    86.0   \n",
       "6742  tt5884230  ...   2017-09-14    2400000.0   101.0   \n",
       "\n",
       "                              spoken_languages           status  \\\n",
       "0     [{'iso_639_1': 'en', 'name': 'English'}]          Planned   \n",
       "1     [{'iso_639_1': 'en', 'name': 'English'}]  Post Production   \n",
       "2     [{'iso_639_1': 'en', 'name': 'English'}]  Post Production   \n",
       "6741  [{'iso_639_1': 'en', 'name': 'English'}]         Released   \n",
       "6742  [{'iso_639_1': 'en', 'name': 'English'}]         Released   \n",
       "\n",
       "                                tagline                        title  video  \\\n",
       "0                                   NaN  Untitled Marvel Project (3)  False   \n",
       "1                                   NaN                Chaos Walking  False   \n",
       "2                                   NaN                   Fatherhood  False   \n",
       "6741  Meet The Original Force Of Nature                    The Lorax  False   \n",
       "6742                                NaN                Brad's Status  False   \n",
       "\n",
       "      vote_average  vote_count  \n",
       "0              0.0         0.0  \n",
       "1              0.0         0.0  \n",
       "2              0.0         0.0  \n",
       "6741           6.4      2063.0  \n",
       "6742           6.1       194.0  \n",
       "\n",
       "[5 rows x 27 columns]"
      ]
     },
     "execution_count": 254,
     "metadata": {},
     "output_type": "execute_result"
    }
   ],
   "source": [
    "df.head(3).append(df.tail(2))"
   ]
  },
  {
   "cell_type": "code",
   "execution_count": 255,
   "metadata": {},
   "outputs": [
    {
     "name": "stdout",
     "output_type": "stream",
     "text": [
      "<class 'pandas.core.frame.DataFrame'>\n",
      "RangeIndex: 6743 entries, 0 to 6742\n",
      "Data columns (total 27 columns):\n",
      "Unnamed: 0               6743 non-null int64\n",
      "Unnamed: 0.1             6743 non-null int64\n",
      "adult                    6742 non-null object\n",
      "backdrop_path            6607 non-null object\n",
      "belongs_to_collection    1281 non-null object\n",
      "budget                   6742 non-null float64\n",
      "genres                   6742 non-null object\n",
      "homepage                 3118 non-null object\n",
      "id                       6742 non-null float64\n",
      "imdb_id                  6716 non-null object\n",
      "original_language        6742 non-null object\n",
      "original_title           6742 non-null object\n",
      "overview                 6740 non-null object\n",
      "popularity               6742 non-null float64\n",
      "poster_path              6684 non-null object\n",
      "production_companies     6742 non-null object\n",
      "production_countries     6742 non-null object\n",
      "release_date             6742 non-null object\n",
      "revenue                  6742 non-null float64\n",
      "runtime                  6710 non-null float64\n",
      "spoken_languages         6742 non-null object\n",
      "status                   6742 non-null object\n",
      "tagline                  5121 non-null object\n",
      "title                    6742 non-null object\n",
      "video                    6742 non-null object\n",
      "vote_average             6742 non-null float64\n",
      "vote_count               6742 non-null float64\n",
      "dtypes: float64(7), int64(2), object(18)\n",
      "memory usage: 1.4+ MB\n"
     ]
    }
   ],
   "source": [
    "df.info()"
   ]
  },
  {
   "cell_type": "code",
   "execution_count": 256,
   "metadata": {},
   "outputs": [
    {
     "data": {
      "text/plain": [
       "Index(['Unnamed: 0', 'Unnamed: 0.1', 'adult', 'backdrop_path',\n",
       "       'belongs_to_collection', 'budget', 'genres', 'homepage', 'id',\n",
       "       'imdb_id', 'original_language', 'original_title', 'overview',\n",
       "       'popularity', 'poster_path', 'production_companies',\n",
       "       'production_countries', 'release_date', 'revenue', 'runtime',\n",
       "       'spoken_languages', 'status', 'tagline', 'title', 'video',\n",
       "       'vote_average', 'vote_count'],\n",
       "      dtype='object')"
      ]
     },
     "execution_count": 256,
     "metadata": {},
     "output_type": "execute_result"
    }
   ],
   "source": [
    "df.columns"
   ]
  },
  {
   "cell_type": "code",
   "execution_count": 257,
   "metadata": {},
   "outputs": [
    {
     "data": {
      "text/plain": [
       "\"On a post-apocalyptic Earth, a robot, built to protect the life of his dying creator's beloved dog, learns about life, love, friendship, and what it means to be human.\""
      ]
     },
     "execution_count": 257,
     "metadata": {},
     "output_type": "execute_result"
    }
   ],
   "source": [
    "df['overview'][11]"
   ]
  },
  {
   "cell_type": "code",
   "execution_count": 258,
   "metadata": {},
   "outputs": [
    {
     "data": {
      "text/plain": [
       "11                                 NaN\n",
       "12    /pYo2mEkSptAmW4OY5xduaHlLrh1.jpg\n",
       "13    /gvYz6xkBvDYmEmcs0LdWN3euxsz.jpg\n",
       "14                                 NaN\n",
       "Name: poster_path, dtype: object"
      ]
     },
     "execution_count": 258,
     "metadata": {},
     "output_type": "execute_result"
    }
   ],
   "source": [
    "df['poster_path'][11:15]"
   ]
  },
  {
   "cell_type": "code",
   "execution_count": 259,
   "metadata": {},
   "outputs": [
    {
     "data": {
      "text/html": [
       "<div>\n",
       "<style scoped>\n",
       "    .dataframe tbody tr th:only-of-type {\n",
       "        vertical-align: middle;\n",
       "    }\n",
       "\n",
       "    .dataframe tbody tr th {\n",
       "        vertical-align: top;\n",
       "    }\n",
       "\n",
       "    .dataframe thead th {\n",
       "        text-align: right;\n",
       "    }\n",
       "</style>\n",
       "<table border=\"1\" class=\"dataframe\">\n",
       "  <thead>\n",
       "    <tr style=\"text-align: right;\">\n",
       "      <th></th>\n",
       "      <th>tagline</th>\n",
       "      <th>video</th>\n",
       "    </tr>\n",
       "  </thead>\n",
       "  <tbody>\n",
       "    <tr>\n",
       "      <td>11</td>\n",
       "      <td>NaN</td>\n",
       "      <td>False</td>\n",
       "    </tr>\n",
       "    <tr>\n",
       "      <td>12</td>\n",
       "      <td>An ORC-tastic journey of ELVISH proportions</td>\n",
       "      <td>False</td>\n",
       "    </tr>\n",
       "    <tr>\n",
       "      <td>13</td>\n",
       "      <td>NaN</td>\n",
       "      <td>False</td>\n",
       "    </tr>\n",
       "    <tr>\n",
       "      <td>14</td>\n",
       "      <td>NaN</td>\n",
       "      <td>False</td>\n",
       "    </tr>\n",
       "  </tbody>\n",
       "</table>\n",
       "</div>"
      ],
      "text/plain": [
       "                                        tagline  video\n",
       "11                                          NaN  False\n",
       "12  An ORC-tastic journey of ELVISH proportions  False\n",
       "13                                          NaN  False\n",
       "14                                          NaN  False"
      ]
     },
     "execution_count": 259,
     "metadata": {},
     "output_type": "execute_result"
    }
   ],
   "source": [
    "df[['tagline', 'video']][11:15]"
   ]
  },
  {
   "cell_type": "code",
   "execution_count": 260,
   "metadata": {},
   "outputs": [],
   "source": [
    "# dropping columns that not going to be used in this project\n",
    "df.drop(columns = ['Unnamed: 0', 'Unnamed: 0.1', 'adult', 'backdrop_path','belongs_to_collection','homepage', 'overview', 'poster_path','tagline','video'], inplace= True)"
   ]
  },
  {
   "cell_type": "code",
   "execution_count": 261,
   "metadata": {},
   "outputs": [
    {
     "data": {
      "text/plain": [
       "(6743, 17)"
      ]
     },
     "execution_count": 261,
     "metadata": {},
     "output_type": "execute_result"
    }
   ],
   "source": [
    "# check that columns are dropped\n",
    "df.shape"
   ]
  },
  {
   "cell_type": "code",
   "execution_count": 262,
   "metadata": {},
   "outputs": [
    {
     "data": {
      "text/plain": [
       "Index(['budget', 'genres', 'id', 'imdb_id', 'original_language',\n",
       "       'original_title', 'popularity', 'production_companies',\n",
       "       'production_countries', 'release_date', 'revenue', 'runtime',\n",
       "       'spoken_languages', 'status', 'title', 'vote_average', 'vote_count'],\n",
       "      dtype='object')"
      ]
     },
     "execution_count": 262,
     "metadata": {},
     "output_type": "execute_result"
    }
   ],
   "source": [
    "# check that columns are dropped\n",
    "df.columns"
   ]
  },
  {
   "cell_type": "code",
   "execution_count": null,
   "metadata": {},
   "outputs": [],
   "source": []
  },
  {
   "cell_type": "code",
   "execution_count": null,
   "metadata": {},
   "outputs": [],
   "source": []
  },
  {
   "cell_type": "code",
   "execution_count": 263,
   "metadata": {},
   "outputs": [
    {
     "data": {
      "text/plain": [
       "budget                   1\n",
       "genres                   1\n",
       "id                       1\n",
       "imdb_id                 27\n",
       "original_language        1\n",
       "original_title           1\n",
       "popularity               1\n",
       "production_companies     1\n",
       "production_countries     1\n",
       "release_date             1\n",
       "revenue                  1\n",
       "runtime                 33\n",
       "spoken_languages         1\n",
       "status                   1\n",
       "title                    1\n",
       "vote_average             1\n",
       "vote_count               1\n",
       "dtype: int64"
      ]
     },
     "execution_count": 263,
     "metadata": {},
     "output_type": "execute_result"
    }
   ],
   "source": [
    "# Nan values\n",
    "df.isna().sum()"
   ]
  },
  {
   "cell_type": "code",
   "execution_count": 264,
   "metadata": {},
   "outputs": [
    {
     "data": {
      "text/plain": [
       "(6689, 17)"
      ]
     },
     "execution_count": 264,
     "metadata": {},
     "output_type": "execute_result"
    }
   ],
   "source": [
    "# drop NA values\n",
    "df.dropna(inplace=True)\n",
    "df.shape"
   ]
  },
  {
   "cell_type": "code",
   "execution_count": 265,
   "metadata": {},
   "outputs": [
    {
     "data": {
      "text/plain": [
       "budget                  0\n",
       "genres                  0\n",
       "id                      0\n",
       "imdb_id                 0\n",
       "original_language       0\n",
       "original_title          0\n",
       "popularity              0\n",
       "production_companies    0\n",
       "production_countries    0\n",
       "release_date            0\n",
       "revenue                 0\n",
       "runtime                 0\n",
       "spoken_languages        0\n",
       "status                  0\n",
       "title                   0\n",
       "vote_average            0\n",
       "vote_count              0\n",
       "dtype: int64"
      ]
     },
     "execution_count": 265,
     "metadata": {},
     "output_type": "execute_result"
    }
   ],
   "source": [
    "df.isna().sum()"
   ]
  },
  {
   "cell_type": "code",
   "execution_count": 266,
   "metadata": {},
   "outputs": [],
   "source": [
    "# cleaning the 'genres' column and convert from string object to list of genres\n",
    "df['genres'] = df['genres'].apply(lambda x: values_list(string_list(x), target_elem=-1))"
   ]
  },
  {
   "cell_type": "code",
   "execution_count": 267,
   "metadata": {},
   "outputs": [
    {
     "data": {
      "text/html": [
       "<div>\n",
       "<style scoped>\n",
       "    .dataframe tbody tr th:only-of-type {\n",
       "        vertical-align: middle;\n",
       "    }\n",
       "\n",
       "    .dataframe tbody tr th {\n",
       "        vertical-align: top;\n",
       "    }\n",
       "\n",
       "    .dataframe thead th {\n",
       "        text-align: right;\n",
       "    }\n",
       "</style>\n",
       "<table border=\"1\" class=\"dataframe\">\n",
       "  <thead>\n",
       "    <tr style=\"text-align: right;\">\n",
       "      <th></th>\n",
       "      <th>budget</th>\n",
       "      <th>genres</th>\n",
       "      <th>id</th>\n",
       "      <th>imdb_id</th>\n",
       "      <th>original_language</th>\n",
       "      <th>original_title</th>\n",
       "      <th>popularity</th>\n",
       "      <th>production_companies</th>\n",
       "      <th>production_countries</th>\n",
       "      <th>release_date</th>\n",
       "      <th>revenue</th>\n",
       "      <th>runtime</th>\n",
       "      <th>spoken_languages</th>\n",
       "      <th>status</th>\n",
       "      <th>title</th>\n",
       "      <th>vote_average</th>\n",
       "      <th>vote_count</th>\n",
       "    </tr>\n",
       "  </thead>\n",
       "  <tbody>\n",
       "    <tr>\n",
       "      <td>1</td>\n",
       "      <td>125000000.0</td>\n",
       "      <td>[Science Fiction]</td>\n",
       "      <td>412656.0</td>\n",
       "      <td>tt2076822</td>\n",
       "      <td>en</td>\n",
       "      <td>Chaos Walking</td>\n",
       "      <td>6.227</td>\n",
       "      <td>[{'id': 80680, 'logo_path': None, 'name': 'Qua...</td>\n",
       "      <td>[{'iso_3166_1': 'US', 'name': 'United States o...</td>\n",
       "      <td>2021-01-21</td>\n",
       "      <td>0.0</td>\n",
       "      <td>0.0</td>\n",
       "      <td>[{'iso_639_1': 'en', 'name': 'English'}]</td>\n",
       "      <td>Post Production</td>\n",
       "      <td>Chaos Walking</td>\n",
       "      <td>0.0</td>\n",
       "      <td>0.0</td>\n",
       "    </tr>\n",
       "  </tbody>\n",
       "</table>\n",
       "</div>"
      ],
      "text/plain": [
       "        budget             genres        id    imdb_id original_language  \\\n",
       "1  125000000.0  [Science Fiction]  412656.0  tt2076822                en   \n",
       "\n",
       "  original_title  popularity  \\\n",
       "1  Chaos Walking       6.227   \n",
       "\n",
       "                                production_companies  \\\n",
       "1  [{'id': 80680, 'logo_path': None, 'name': 'Qua...   \n",
       "\n",
       "                                production_countries release_date  revenue  \\\n",
       "1  [{'iso_3166_1': 'US', 'name': 'United States o...   2021-01-21      0.0   \n",
       "\n",
       "   runtime                          spoken_languages           status  \\\n",
       "1      0.0  [{'iso_639_1': 'en', 'name': 'English'}]  Post Production   \n",
       "\n",
       "           title  vote_average  vote_count  \n",
       "1  Chaos Walking           0.0         0.0  "
      ]
     },
     "execution_count": 267,
     "metadata": {},
     "output_type": "execute_result"
    }
   ],
   "source": [
    "df.head(1)"
   ]
  },
  {
   "cell_type": "code",
   "execution_count": 244,
   "metadata": {},
   "outputs": [
    {
     "data": {
      "text/plain": [
       "(123, 17)"
      ]
     },
     "execution_count": 244,
     "metadata": {},
     "output_type": "execute_result"
    }
   ],
   "source": [
    "# count the number of movies with runtime data missing\n",
    "df.loc[df['runtime']==0].shape"
   ]
  },
  {
   "cell_type": "code",
   "execution_count": 269,
   "metadata": {},
   "outputs": [
    {
     "data": {
      "text/plain": [
       "mean      97.86874\n",
       "median    98.00000\n",
       "Name: runtime, dtype: float64"
      ]
     },
     "execution_count": 269,
     "metadata": {},
     "output_type": "execute_result"
    }
   ],
   "source": [
    "df['runtime'].agg(['mean','median'])"
   ]
  },
  {
   "cell_type": "code",
   "execution_count": 270,
   "metadata": {},
   "outputs": [],
   "source": [
    "# replace 0 runtime with median value \n",
    "df['runtime'] = df['runtime'].replace(to_replace = 0, value = df['runtime'].median())"
   ]
  },
  {
   "cell_type": "code",
   "execution_count": null,
   "metadata": {},
   "outputs": [],
   "source": []
  },
  {
   "cell_type": "code",
   "execution_count": 279,
   "metadata": {},
   "outputs": [],
   "source": [
    "# cleaning the 'spoken_languages' column and convert from string object to list of spoken_languages\n",
    "df['spoken_languages'] = df['spoken_languages'].apply(lambda x: values_list(string_list(x), target_elem = 0))"
   ]
  },
  {
   "cell_type": "code",
   "execution_count": 308,
   "metadata": {},
   "outputs": [],
   "source": [
    "# cleaning the 'production_companies' column and convert from string object to list of production_companies\n",
    "df['production_companies'] = df['production_companies'].apply(lambda x: values_list(string_list(x), target_elem = 2))"
   ]
  },
  {
   "cell_type": "code",
   "execution_count": 323,
   "metadata": {},
   "outputs": [],
   "source": [
    "# cleaning the 'production_countries' column and convert from string object to list of production_countries\n",
    "df['production_countries'] = df['production_countries'].apply(lambda x: values_list(string_list(x), target_elem = 0))"
   ]
  },
  {
   "cell_type": "code",
   "execution_count": 329,
   "metadata": {},
   "outputs": [
    {
     "data": {
      "text/plain": [
       "Released           6582\n",
       "Post Production      47\n",
       "In Production        47\n",
       "Planned              13\n",
       "Name: status, dtype: int64"
      ]
     },
     "execution_count": 329,
     "metadata": {},
     "output_type": "execute_result"
    }
   ],
   "source": [
    "# check the status of the movies\n",
    "df.status.value_counts()"
   ]
  },
  {
   "cell_type": "code",
   "execution_count": 331,
   "metadata": {},
   "outputs": [
    {
     "data": {
      "text/plain": [
       "0.0            3281\n",
       "10000000.0        3\n",
       "102000000.0       3\n",
       "21.0              2\n",
       "2400000.0         2\n",
       "               ... \n",
       "47536959.0        1\n",
       "12000000.0        1\n",
       "261465.0          1\n",
       "123384128.0       1\n",
       "56359980.0        1\n",
       "Name: revenue, Length: 3391, dtype: int64"
      ]
     },
     "execution_count": 331,
     "metadata": {},
     "output_type": "execute_result"
    }
   ],
   "source": [
    "# count the number of movies with revenue data missing\n",
    "df['revenue'].value_counts()"
   ]
  },
  {
   "cell_type": "code",
   "execution_count": 333,
   "metadata": {},
   "outputs": [],
   "source": [
    "# create separted Data Frame for not released movies(they have 0 revenue value)\n",
    "df_not_released = df.loc[df['status']!= 'Released']"
   ]
  },
  {
   "cell_type": "code",
   "execution_count": 339,
   "metadata": {},
   "outputs": [],
   "source": [
    "# can drop all 0 revenue values for df\n",
    "df_released = df.loc[df['revenue']!=0]"
   ]
  },
  {
   "cell_type": "code",
   "execution_count": 344,
   "metadata": {},
   "outputs": [
    {
     "data": {
      "text/plain": [
       "(0, 17)"
      ]
     },
     "execution_count": 344,
     "metadata": {},
     "output_type": "execute_result"
    }
   ],
   "source": [
    "# test\n",
    "df_released.loc[df['revenue']==0].shape"
   ]
  },
  {
   "cell_type": "code",
   "execution_count": 345,
   "metadata": {},
   "outputs": [],
   "source": [
    "# creating two csv files for final analysis\n",
    "df_not_released.to_csv('df_not_released.csv')\n",
    "df_released.to_csv('df_released.csv')"
   ]
  },
  {
   "cell_type": "code",
   "execution_count": null,
   "metadata": {},
   "outputs": [],
   "source": []
  }
 ],
 "metadata": {
  "kernelspec": {
   "display_name": "Python 3",
   "language": "python",
   "name": "python3"
  },
  "language_info": {
   "codemirror_mode": {
    "name": "ipython",
    "version": 3
   },
   "file_extension": ".py",
   "mimetype": "text/x-python",
   "name": "python",
   "nbconvert_exporter": "python",
   "pygments_lexer": "ipython3",
   "version": "3.6.9"
  }
 },
 "nbformat": 4,
 "nbformat_minor": 2
}
